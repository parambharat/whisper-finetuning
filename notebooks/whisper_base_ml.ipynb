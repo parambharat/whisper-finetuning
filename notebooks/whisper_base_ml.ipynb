{
 "cells": [
  {
   "cell_type": "code",
   "execution_count": 1,
   "metadata": {
    "id": "JKgmVNgVAD17",
    "scrolled": true
   },
   "outputs": [],
   "source": [
    "# %%capture\n",
    "\n",
    "# !add-apt-repository -y ppa:jonathonf/ffmpeg-4\n",
    "# !apt update\n",
    "# !apt install -y ffmpeg\n",
    "\n",
    "# !pip uninstall -y transformers datasets \n",
    "# !pip install audiomentations\n",
    "# !pip install git+https://github.com/huggingface/datasets\n",
    "# !pip install git+https://github.com/huggingface/transformers\n",
    "# !pip install librosa soundfile\n",
    "# !pip install evaluate>=0.3.0\n",
    "# !pip install jiwer\n",
    "# !pip install gradio\n",
    "# !pip install more-itertools\n",
    "# !pip install wandb\n",
    "# !pip install bitsandbytes"
   ]
  },
  {
   "cell_type": "code",
   "execution_count": 2,
   "metadata": {
    "colab": {
     "base_uri": "https://localhost:8080/"
    },
    "id": "ZC8tW_tfNo-J",
    "outputId": "229393d0-5588-44f1-8b9c-2ba762e3c45f"
   },
   "outputs": [
    {
     "name": "stdout",
     "output_type": "stream",
     "text": [
      "env: WANDB_LOG_MODEL=True\n",
      "env: WANDB_WATCH=all\n",
      "env: WANDB_NOTEBOOK_NAME=whisper_base_ml.ipynb\n"
     ]
    }
   ],
   "source": [
    "%set_env WANDB_LOG_MODEL=True\n",
    "%set_env WANDB_WATCH=all\n",
    "%set_env WANDB_NOTEBOOK_NAME=whisper_base_ml.ipynb"
   ]
  },
  {
   "cell_type": "code",
   "execution_count": 3,
   "metadata": {
    "colab": {
     "base_uri": "https://localhost:8080/"
    },
    "id": "R2pNlZvdABCs",
    "outputId": "055ae780-d14e-4c17-8730-319e32b1aa00"
   },
   "outputs": [
    {
     "data": {
      "text/plain": [
       "True"
      ]
     },
     "execution_count": 3,
     "metadata": {},
     "output_type": "execute_result"
    }
   ],
   "source": [
    "from datasets import Dataset, IterableDatasetDict, load_dataset, interleave_datasets, Audio \n",
    "import evaluate\n",
    "\n",
    "import torch\n",
    "import string\n",
    "from dataclasses import dataclass\n",
    "from typing import Any, Dict, List, Union\n",
    "\n",
    "from transformers import WhisperForConditionalGeneration\n",
    "from transformers import WhisperProcessor\n",
    "from transformers import Seq2SeqTrainingArguments\n",
    "from transformers import Seq2SeqTrainer\n",
    "from transformers import WhisperTokenizer\n",
    "from transformers import WhisperFeatureExtractor\n",
    "import wandb\n",
    "from IPython.display import clear_output\n",
    "from audiomentations import Compose, AddGaussianNoise, TimeStretch, PitchShift, Shift\n",
    "import numpy as np\n",
    "from huggingface_hub import notebook_login\n",
    "from transformers import TrainerCallback\n",
    "from transformers.integrations import WandbCallback\n",
    "from transformers.trainer_pt_utils import IterableDatasetShard\n",
    "from torch.utils.data import IterableDataset\n",
    "from datasets import load_dataset, Audio\n",
    "from pathlib import Path\n",
    "import numpy as np\n",
    "import holoviews as hv\n",
    "import panel as pn\n",
    "import tempfile\n",
    "from bokeh.resources import INLINE\n",
    "hv.extension(\"bokeh\", logo=False)\n",
    "\n",
    "from io import StringIO\n",
    "import pandas as pd\n",
    "import warnings\n",
    "import jiwer\n",
    "warnings.filterwarnings('ignore')\n",
    "\n",
    "clear_output()\n",
    "torch.cuda.is_available()"
   ]
  },
  {
   "cell_type": "code",
   "execution_count": 4,
   "metadata": {
    "id": "nGAUsPySNYna"
   },
   "outputs": [],
   "source": [
    "# wandb.login()"
   ]
  },
  {
   "cell_type": "code",
   "execution_count": 5,
   "metadata": {
    "id": "hw5u7Q-QOlKB"
   },
   "outputs": [],
   "source": [
    "# notebook_login()"
   ]
  },
  {
   "cell_type": "code",
   "execution_count": 6,
   "metadata": {
    "colab": {
     "base_uri": "https://localhost:8080/",
     "height": 121
    },
    "id": "pBO2LqJ4NW3T",
    "outputId": "b12c203e-e11f-473f-aa4f-5d2fd6711930"
   },
   "outputs": [
    {
     "name": "stderr",
     "output_type": "stream",
     "text": [
      "wandb: Currently logged in as: parambharat. Use `wandb login --relogin` to force relogin\n"
     ]
    },
    {
     "data": {
      "text/html": [
       "Tracking run with wandb version 0.13.6"
      ],
      "text/plain": [
       "<IPython.core.display.HTML object>"
      ]
     },
     "metadata": {},
     "output_type": "display_data"
    },
    {
     "data": {
      "text/html": [
       "Run data is saved locally in <code>/home/ubuntu/whisper-finetuning/notebooks/wandb/run-20221213_100413-304br4np</code>"
      ],
      "text/plain": [
       "<IPython.core.display.HTML object>"
      ]
     },
     "metadata": {},
     "output_type": "display_data"
    },
    {
     "data": {
      "text/html": [
       "Syncing run <strong><a href=\"https://wandb.ai/parambharat/whisper_finetuning/runs/304br4np\" target=\"_blank\">stoic-surf-65</a></strong> to <a href=\"https://wandb.ai/parambharat/whisper_finetuning\" target=\"_blank\">Weights & Biases</a> (<a href=\"https://wandb.me/run\" target=\"_blank\">docs</a>)<br/>"
      ],
      "text/plain": [
       "<IPython.core.display.HTML object>"
      ]
     },
     "metadata": {},
     "output_type": "display_data"
    }
   ],
   "source": [
    "run = wandb.init(project=\"whisper_finetuning\", job_type=\"fine-tuning\", group=\"base-ml\")"
   ]
  },
  {
   "cell_type": "code",
   "execution_count": 7,
   "metadata": {
    "id": "PuTCIEJSBIOM"
   },
   "outputs": [],
   "source": [
    "def load_data_splits(is_streaming=True, stopping_strategy=\"all_exhausted\"):\n",
    "    dataset_dict = {}\n",
    "    \n",
    "    data_dict = load_dataset(\"../data/malayalam_asr_corpus/\", streaming=is_streaming)\n",
    "        \n",
    "    return data_dict"
   ]
  },
  {
   "cell_type": "code",
   "execution_count": 8,
   "metadata": {
    "colab": {
     "base_uri": "https://localhost:8080/"
    },
    "id": "p-v-YdYPBMkM",
    "outputId": "9592fddd-37a5-47c6-f28a-c8577c5965e8"
   },
   "outputs": [],
   "source": [
    "dataset_dict = load_data_splits()"
   ]
  },
  {
   "cell_type": "code",
   "execution_count": 9,
   "metadata": {
    "id": "kV_BfJISBPu8"
   },
   "outputs": [],
   "source": [
    "augment_waveform = Compose([\n",
    "    AddGaussianNoise(min_amplitude=0.005, max_amplitude=0.015, p=0.3),\n",
    "    TimeStretch(min_rate=0.8, max_rate=1.25, p=0.3, leave_length_unchanged=False),\n",
    "    PitchShift(min_semitones=-4, max_semitones=4, p=0.3)\n",
    "    ,])\n",
    "\n",
    "def augment_dataset(batch):\n",
    "\n",
    "    audio = batch[\"audio\"][\"array\"]\n",
    "    # apply augmentation\n",
    "    augmented_audio = augment_waveform(samples=audio, sample_rate=16000)\n",
    "\n",
    "    batch[\"audio\"][\"array\"] = augmented_audio\n",
    "\n",
    "    return batch\n",
    "\n",
    "\n",
    "# call augment dataset on the training set\n",
    "dataset_dict[\"train\"] = dataset_dict[\"train\"].map(augment_dataset)"
   ]
  },
  {
   "cell_type": "code",
   "execution_count": 10,
   "metadata": {
    "id": "Ed-DU67MBRZM"
   },
   "outputs": [
    {
     "data": {
      "application/vnd.jupyter.widget-view+json": {
       "model_id": "15e9817a085d4a4898800166f9434b5f",
       "version_major": 2,
       "version_minor": 0
      },
      "text/plain": [
       "Downloading:   0%|          | 0.00/185k [00:00<?, ?B/s]"
      ]
     },
     "metadata": {},
     "output_type": "display_data"
    },
    {
     "data": {
      "application/vnd.jupyter.widget-view+json": {
       "model_id": "08823700a0614f538c072f210967b077",
       "version_major": 2,
       "version_minor": 0
      },
      "text/plain": [
       "Downloading:   0%|          | 0.00/827 [00:00<?, ?B/s]"
      ]
     },
     "metadata": {},
     "output_type": "display_data"
    },
    {
     "data": {
      "application/vnd.jupyter.widget-view+json": {
       "model_id": "3a9276adbc464cc3a98e0654e14f022d",
       "version_major": 2,
       "version_minor": 0
      },
      "text/plain": [
       "Downloading:   0%|          | 0.00/1.04M [00:00<?, ?B/s]"
      ]
     },
     "metadata": {},
     "output_type": "display_data"
    },
    {
     "data": {
      "application/vnd.jupyter.widget-view+json": {
       "model_id": "38b3cfe242124d109c4fa5a9ce611f23",
       "version_major": 2,
       "version_minor": 0
      },
      "text/plain": [
       "Downloading:   0%|          | 0.00/494k [00:00<?, ?B/s]"
      ]
     },
     "metadata": {},
     "output_type": "display_data"
    },
    {
     "data": {
      "application/vnd.jupyter.widget-view+json": {
       "model_id": "1e6b0cdb9f6a4f799bc7600505a9c4ca",
       "version_major": 2,
       "version_minor": 0
      },
      "text/plain": [
       "Downloading:   0%|          | 0.00/52.7k [00:00<?, ?B/s]"
      ]
     },
     "metadata": {},
     "output_type": "display_data"
    },
    {
     "data": {
      "application/vnd.jupyter.widget-view+json": {
       "model_id": "c579252da564466db21747200753a9b6",
       "version_major": 2,
       "version_minor": 0
      },
      "text/plain": [
       "Downloading:   0%|          | 0.00/2.11k [00:00<?, ?B/s]"
      ]
     },
     "metadata": {},
     "output_type": "display_data"
    },
    {
     "data": {
      "application/vnd.jupyter.widget-view+json": {
       "model_id": "2386ccc0730d4986945e23bc6bd22ab0",
       "version_major": 2,
       "version_minor": 0
      },
      "text/plain": [
       "Downloading:   0%|          | 0.00/2.06k [00:00<?, ?B/s]"
      ]
     },
     "metadata": {},
     "output_type": "display_data"
    }
   ],
   "source": [
    "feature_extractor = WhisperFeatureExtractor.from_pretrained(\n",
    "    \"openai/whisper-base\"\n",
    ")\n",
    "tokenizer = WhisperTokenizer.from_pretrained(\n",
    "    \"openai/whisper-base\", \n",
    "     language=\"Malayalam\",\n",
    "     task=\"transcribe\",\n",
    "     model_max_length=225\n",
    ")\n",
    "processor = WhisperProcessor.from_pretrained(\n",
    "    \"openai/whisper-base\",\n",
    "     language=\"Malayalam\", \n",
    "     task=\"transcribe\",\n",
    "     model_max_length=225\n",
    ")"
   ]
  },
  {
   "cell_type": "code",
   "execution_count": 11,
   "metadata": {
    "id": "3RRzYMlzBS1c"
   },
   "outputs": [],
   "source": [
    "def fix_sentence(sentence):\n",
    "    transcription = sentence\n",
    "  \n",
    "    if transcription.startswith('\"') and transcription.endswith('\"'):\n",
    "        # we can remove trailing quotation marks as they do not affect the transcription\n",
    "        transcription = transcription[1:-1]\n",
    "  \n",
    "    if transcription[-1] not in [\".\", \"?\", \"!\"]:\n",
    "        # append a full-stop to sentences that do not end in punctuation\n",
    "        transcription = transcription + \".\"\n",
    "    transcription = transcription[:-1].translate(str.maketrans('', '', string.punctuation)) + transcription[-1]\n",
    "    return transcription\n",
    "    \n",
    "def prepare_dataset(examples):\n",
    "    # compute log-Mel input features from input audio array \n",
    "    audio = examples[\"audio\"]\n",
    "    \n",
    "    examples[\"input_features\"] = feature_extractor(\n",
    "        audio[\"array\"], sampling_rate=16000).input_features[0]\n",
    "    \n",
    "    sentences = fix_sentence(examples[\"sentence\"])\n",
    "    \n",
    "    # encode target text to label ids \n",
    "    examples[\"labels\"] = tokenizer(sentences, max_length=225, truncation=True).input_ids\n",
    "    return examples"
   ]
  },
  {
   "cell_type": "code",
   "execution_count": 12,
   "metadata": {},
   "outputs": [],
   "source": [
    "def filter_empty_strings(sentence):\n",
    "    if len(sentence) < 2:\n",
    "        return False\n",
    "    else: return True"
   ]
  },
  {
   "cell_type": "code",
   "execution_count": 13,
   "metadata": {},
   "outputs": [],
   "source": [
    "for k in dataset_dict:\n",
    "    dataset_dict[k] = dataset_dict[k].filter(filter_empty_strings, input_columns=[\"sentence\"])"
   ]
  },
  {
   "cell_type": "code",
   "execution_count": 14,
   "metadata": {
    "id": "d_dZciZ4B3dx"
   },
   "outputs": [],
   "source": [
    "for k in dataset_dict:\n",
    "    dataset_dict[k] = dataset_dict[k].map(\n",
    "        prepare_dataset,).with_format(\"torch\")"
   ]
  },
  {
   "cell_type": "code",
   "execution_count": 15,
   "metadata": {},
   "outputs": [],
   "source": [
    "dataset_dict[\"train\"] = dataset_dict[\"train\"].shuffle(buffer_size=500)"
   ]
  },
  {
   "cell_type": "code",
   "execution_count": 16,
   "metadata": {
    "id": "Oy4IjH8TDBdK"
   },
   "outputs": [],
   "source": [
    "@dataclass\n",
    "class DataCollatorSpeechSeq2SeqWithPadding:\n",
    "    processor: Any\n",
    "\n",
    "    def __call__(self, features: List[Dict[str, Union[List[int], torch.Tensor]]]) -> Dict[str, torch.Tensor]:\n",
    "        # split inputs and labels since they have to be of different lengths and need different padding methods\n",
    "        # first treat the audio inputs by simply returning torch tensors\n",
    "        input_features = [{\"input_features\": feature[\"input_features\"]} for feature in features]\n",
    "        batch = self.processor.feature_extractor.pad(input_features, return_tensors=\"pt\")\n",
    "\n",
    "        # get the tokenized label sequences\n",
    "        label_features = [{\"input_ids\": self.processor.tokenizer.truncate_sequences(feature[\"labels\"])[0]}\n",
    "                          for feature in features]\n",
    "        # pad the labels to max length\n",
    "        \n",
    "        labels_batch = self.processor.tokenizer.pad(label_features, return_tensors=\"pt\",)\n",
    "\n",
    "        # replace padding with -100 to ignore loss correctly\n",
    "        labels = labels_batch[\"input_ids\"].masked_fill(labels_batch.attention_mask.ne(1), -100)\n",
    "\n",
    "        # if bos token is appended in previous tokenization step,\n",
    "        # cut bos token here as it's append later anyways\n",
    "        if (labels[:, 0] == self.processor.tokenizer.bos_token_id).all().cpu().item():\n",
    "            labels = labels[:, 1:]\n",
    "\n",
    "        batch[\"labels\"] = labels\n",
    "\n",
    "        return batch"
   ]
  },
  {
   "cell_type": "code",
   "execution_count": 17,
   "metadata": {
    "id": "OEyoMdF4Epw_"
   },
   "outputs": [],
   "source": [
    "data_collator = DataCollatorSpeechSeq2SeqWithPadding(processor=processor)"
   ]
  },
  {
   "cell_type": "code",
   "execution_count": 18,
   "metadata": {
    "id": "QHQYVCO6E589"
   },
   "outputs": [],
   "source": [
    "metric = evaluate.load(\"wer\")\n",
    "\n",
    "# evaluate with the 'normalised' WER\n",
    "do_normalize_eval = True\n",
    "\n",
    "\n",
    "def compute_metrics(pred):\n",
    "    pred_ids = pred.predictions\n",
    "    label_ids = pred.label_ids\n",
    "\n",
    "    # replace -100 with the pad_token_id\n",
    "    label_ids[label_ids == -100] = processor.tokenizer.pad_token_id\n",
    "\n",
    "    # we do not want to group tokens when computing the metrics\n",
    "    pred_str = processor.tokenizer.batch_decode(pred_ids, skip_special_tokens=True, normalize=do_normalize_eval)\n",
    "    label_str = processor.tokenizer.batch_decode(label_ids, skip_special_tokens=True, normalize=do_normalize_eval)\n",
    "\n",
    "    wer = 100 * metric.compute(predictions=pred_str, references=label_str)\n",
    "\n",
    "    return {\"wer\": wer}"
   ]
  },
  {
   "cell_type": "code",
   "execution_count": 19,
   "metadata": {
    "id": "Fzh1uv_tHh6k",
    "scrolled": true
   },
   "outputs": [
    {
     "data": {
      "application/vnd.jupyter.widget-view+json": {
       "model_id": "7806cfb0aa0f43dbaca2b3242f0282c8",
       "version_major": 2,
       "version_minor": 0
      },
      "text/plain": [
       "Downloading:   0%|          | 0.00/1.96k [00:00<?, ?B/s]"
      ]
     },
     "metadata": {},
     "output_type": "display_data"
    },
    {
     "data": {
      "application/vnd.jupyter.widget-view+json": {
       "model_id": "6139ad874399455dbaa36744dc9e57dd",
       "version_major": 2,
       "version_minor": 0
      },
      "text/plain": [
       "Downloading:   0%|          | 0.00/290M [00:00<?, ?B/s]"
      ]
     },
     "metadata": {},
     "output_type": "display_data"
    }
   ],
   "source": [
    "model = WhisperForConditionalGeneration.from_pretrained(\"openai/whisper-base\", use_cache=False)\n",
    "model.config.forced_decoder_ids = None\n",
    "model.config.suppress_tokens = []\n",
    "model.config.use_cache = False"
   ]
  },
  {
   "cell_type": "code",
   "execution_count": 20,
   "metadata": {
    "id": "e9jrAocYIRbo"
   },
   "outputs": [],
   "source": [
    "# trainer callback to reinitialise and reshuffle the streamable datasets at the beginning of each epoch\n",
    "class ShuffleCallback(TrainerCallback):\n",
    "    def on_epoch_begin(self, args, state, control, train_dataloader, **kwargs):\n",
    "        if isinstance(train_dataloader.dataset, IterableDatasetShard):\n",
    "            pass  # set_epoch() is handled by the Trainer\n",
    "        elif isinstance(train_dataloader.dataset, IterableDataset):\n",
    "            train_dataloader.dataset.set_epoch(train_dataloader.dataset._epoch + 1)\n",
    "            \n"
   ]
  },
  {
   "cell_type": "code",
   "execution_count": 21,
   "metadata": {},
   "outputs": [],
   "source": [
    "def load_samples_dataset(dataset, num_samples=100):\n",
    "    samples = []\n",
    "    for i, item in enumerate(dataset):\n",
    "        samples.append(item)\n",
    "        if i == (num_samples-1):\n",
    "            break\n",
    "    sample_dataset = Dataset.from_list(samples)\n",
    "    return sample_dataset\n",
    "\n",
    "def compute_spectrograms(example):\n",
    "    waveform =  example[\"audio\"][\"array\"]\n",
    "    specs = feature_extractor(waveform, sampling_rate=16000, padding=\"do_not_pad\").input_features[0]\n",
    "    return {\"spectrogram\": specs}\n",
    "\n",
    "\n",
    "def record_to_html(sample_record):\n",
    "    audio_array = np.array(sample_record[\"audio\"][\"array\"])\n",
    "    audio_sr = sample_record[\"audio\"][\"sampling_rate\"]\n",
    "    audio_duration = sample_record[\"length\"]\n",
    "    audio_spectrogram = np.array(sample_record[\"spectrogram\"])\n",
    "\n",
    "    bounds = (0,0, audio_duration, audio_spectrogram.max())\n",
    "\n",
    "    waveform_int = np.int16(audio_array * 32767)\n",
    "\n",
    "    \n",
    "    \n",
    "    hv_audio = pn.pane.Audio(waveform_int, sample_rate=audio_sr, name='Audio', throttle=500)\n",
    "    \n",
    "    slider = pn.widgets.FloatSlider(end=audio_duration, visible=False, step=0.001)\n",
    "    line_audio = hv.VLine(0).opts(color='black')\n",
    "    line_spec = hv.VLine(0).opts(color='red')\n",
    "    \n",
    "    \n",
    "    slider.jslink(hv_audio, value='time', bidirectional=True)\n",
    "    slider.jslink(line_audio, value='glyph.location')\n",
    "    slider.jslink(line_spec, value='glyph.location')\n",
    "    \n",
    "    time = np.linspace(0, audio_duration, num=len(audio_array))\n",
    "    line_plot_hv = hv.Curve(\n",
    "        (time, audio_array), [\"Time (s)\", \"amplitude\"]).opts(\n",
    "        width=500, height=150, axiswise=True) * line_audio\n",
    "    \n",
    "    hv_spec_gram = hv.Image(\n",
    "        audio_spectrogram, bounds=(bounds), kdims=[\"Time (s)\", \"Frequency (hz)\"]).opts(\n",
    "        width=500, height=150, labelled=[], axiswise=True, color_levels=512)* line_spec\n",
    "    \n",
    "    \n",
    "    combined = pn.Row(hv_audio, hv_spec_gram, line_plot_hv, slider)\n",
    "    audio_html = StringIO()\n",
    "    combined.save(audio_html)\n",
    "    return audio_html\n",
    "\n",
    "\n",
    "def dataset_to_records(dataset):\n",
    "    records = []\n",
    "    for item in dataset:\n",
    "        record = {}\n",
    "        record[\"audio_with_spec\"] = wandb.Html(record_to_html(item))\n",
    "        record[\"sentence\"] = item[\"sentence\"]\n",
    "        record[\"length\"] = item[\"length\"]\n",
    "        records.append(record)\n",
    "    records = pd.DataFrame(records)\n",
    "    return records\n",
    "    \n",
    "def decode_predictions(trainer, predictions):\n",
    "    pred_ids = predictions.predictions\n",
    "    pred_str = trainer.tokenizer.batch_decode(pred_ids, skip_special_tokens=True, )\n",
    "    return pred_str\n",
    "\n",
    "\n",
    "def compute_measures(predictions, labels):\n",
    "    measures = [jiwer.compute_measures(ls, ps) for ps, ls in zip(predictions, labels)]\n",
    "    measures_df = pd.DataFrame(measures)[[\"wer\", \"hits\", \"substitutions\", \"deletions\", \"insertions\"]]\n",
    "    return measures_df\n",
    "\n",
    "class WandbProgressResultsCallback(WandbCallback):\n",
    "    def __init__(self, trainer, sample_dataset): \n",
    "        super().__init__()\n",
    "        self.trainer = trainer\n",
    "        self.sample_dataset = sample_dataset\n",
    "        self.records_df = dataset_to_records(sample_dataset)\n",
    "        \n",
    "    def on_log(self, args, state, control, model=None, logs=None, **kwargs):\n",
    "        super().on_log(args, state, control, model, logs)\n",
    "        predictions = trainer.predict(self.sample_dataset)\n",
    "        predictions = decode_predictions(self.trainer, predictions)\n",
    "        measures_df = compute_measures(predictions, self.records_df[\"sentence\"].tolist())\n",
    "        records_df = pd.concat([self.records_df, measures_df], axis=1)\n",
    "        records_df[\"prediction\"] = predictions\n",
    "        records_df[\"step\"] = state.global_step\n",
    "        records_table = self._wandb.Table(dataframe=records_df)\n",
    "        self._wandb.log({\"sample_predictions\": records_table})\n",
    "        \n",
    "    def on_save(self, args, state, control, model=None, tokenizer=None, **kwargs):\n",
    "        if self._wandb is None:\n",
    "            return\n",
    "        if self._log_model and self._initialized and state.is_world_process_zero:\n",
    "            with tempfile.TemporaryDirectory() as temp_dir:\n",
    "                self.trainer.save_model(temp_dir)\n",
    "                metadata = (\n",
    "                    {\n",
    "                        k: v\n",
    "                        for k, v in dict(self._wandb.summary).items()\n",
    "                        if isinstance(v, numbers.Number) and not k.startswith(\"_\")\n",
    "                    }\n",
    "                    if not args.load_best_model_at_end\n",
    "                    else {\n",
    "                        f\"eval/{args.metric_for_best_model}\": state.best_metric,\n",
    "                        \"train/total_floss\": state.total_flos,\n",
    "                    }\n",
    "                )\n",
    "                artifact = self._wandb.Artifact(\n",
    "                    name=f\"model-{self._wandb.run.id}\",\n",
    "                    type=\"model\", metadata=metadata)\n",
    "                for f in Path(temp_dir).glob(\"*\"):\n",
    "                    if f.is_file():\n",
    "                        with artifact.new_file(f.name, mode=\"wb\") as fa:\n",
    "                            fa.write(f.read_bytes())\n",
    "                self._wandb.run.log_artifact(artifact)"
   ]
  },
  {
   "cell_type": "code",
   "execution_count": 31,
   "metadata": {
    "id": "yLQm6aERHsE8"
   },
   "outputs": [
    {
     "name": "stderr",
     "output_type": "stream",
     "text": [
      "PyTorch: setting up devices\n"
     ]
    }
   ],
   "source": [
    "training_args = Seq2SeqTrainingArguments(\n",
    "    output_dir=\"./whisper-base-ml\",  # change to a repo name of your choice\n",
    "    per_device_train_batch_size=64,\n",
    "    gradient_accumulation_steps=1,  # increase by 2x for every 2x decrease in batch size\n",
    "    learning_rate=1e-5,\n",
    "    save_total_limit=4,\n",
    "    warmup_steps=500,\n",
    "    max_steps=5000,\n",
    "    gradient_checkpointing=True,\n",
    "    fp16=True,\n",
    "#     fp16_full_eval=True,\n",
    "    optim=\"adamw_bnb_8bit\",\n",
    "    evaluation_strategy=\"steps\",\n",
    "    per_device_eval_batch_size=32,\n",
    "    predict_with_generate=True,\n",
    "    generation_max_length=225,\n",
    "    save_steps=500,\n",
    "    eval_steps=500,\n",
    "    logging_steps=250,\n",
    "    report_to=\"none\",\n",
    "    load_best_model_at_end=True,\n",
    "    metric_for_best_model=\"wer\",\n",
    "    greater_is_better=False,\n",
    "    push_to_hub=True,\n",
    "    hub_strategy=\"checkpoint\",\n",
    "    remove_unused_columns=False, \n",
    "    ignore_data_skip=True\n",
    ")\n"
   ]
  },
  {
   "cell_type": "code",
   "execution_count": 23,
   "metadata": {},
   "outputs": [
    {
     "data": {
      "application/vnd.jupyter.widget-view+json": {
       "model_id": "084440230e3d436b886f6bb6a9ca6bce",
       "version_major": 2,
       "version_minor": 0
      },
      "text/plain": [
       "  0%|          | 0/100 [00:00<?, ?ex/s]"
      ]
     },
     "metadata": {},
     "output_type": "display_data"
    }
   ],
   "source": [
    "samples_dataset = load_samples_dataset(dataset_dict[\"test\"]).map(compute_spectrograms)"
   ]
  },
  {
   "cell_type": "code",
   "execution_count": 32,
   "metadata": {
    "colab": {
     "base_uri": "https://localhost:8080/"
    },
    "id": "e0mzO_xHIX1Q",
    "outputId": "97170efa-ef41-4e95-d103-aa08d44d02c1"
   },
   "outputs": [
    {
     "name": "stderr",
     "output_type": "stream",
     "text": [
      "/home/ubuntu/whisper-finetuning/notebooks/./whisper-base-ml is already a clone of https://huggingface.co/parambharat/whisper-base-ml. Make sure you pull the latest changes with `repo.git_pull()`.\n",
      "max_steps is given, it will override any value given in num_train_epochs\n",
      "Using cuda_amp half precision backend\n"
     ]
    }
   ],
   "source": [
    "trainer = Seq2SeqTrainer(\n",
    "    args=training_args,\n",
    "    model=model,\n",
    "    train_dataset=dataset_dict[\"train\"],\n",
    "    eval_dataset=samples_dataset,\n",
    "    data_collator=data_collator,\n",
    "    compute_metrics=compute_metrics,\n",
    "    tokenizer=processor,\n",
    "    callbacks=[ShuffleCallback()],\n",
    "    \n",
    ")"
   ]
  },
  {
   "cell_type": "code",
   "execution_count": 27,
   "metadata": {
    "scrolled": true
   },
   "outputs": [],
   "source": [
    "progress_callback = WandbProgressResultsCallback(trainer, samples_dataset)\n",
    "clear_output()"
   ]
  },
  {
   "cell_type": "code",
   "execution_count": 33,
   "metadata": {},
   "outputs": [],
   "source": [
    "trainer.add_callback(progress_callback)"
   ]
  },
  {
   "cell_type": "code",
   "execution_count": 29,
   "metadata": {
    "colab": {
     "base_uri": "https://localhost:8080/"
    },
    "id": "FD6Vq49JPNCw",
    "outputId": "2d949448-e4c7-4ec4-b73e-c4d9afd403b7"
   },
   "outputs": [
    {
     "name": "stderr",
     "output_type": "stream",
     "text": [
      "Configuration saved in ./whisper-base-ml/config.json\n",
      "Model weights saved in ./whisper-base-ml/pytorch_model.bin\n",
      "Feature extractor saved in ./whisper-base-ml/preprocessor_config.json\n",
      "tokenizer config file saved in ./whisper-base-ml/tokenizer_config.json\n",
      "Special tokens file saved in ./whisper-base-ml/special_tokens_map.json\n",
      "added tokens file saved in ./whisper-base-ml/added_tokens.json\n"
     ]
    }
   ],
   "source": [
    "model.save_pretrained(training_args.output_dir)\n",
    "processor.save_pretrained(training_args.output_dir)"
   ]
  },
  {
   "cell_type": "code",
   "execution_count": 35,
   "metadata": {
    "id": "-hxbi4vVPpoy",
    "scrolled": true
   },
   "outputs": [
    {
     "name": "stderr",
     "output_type": "stream",
     "text": [
      "Loading model from ./whisper-base-ml/checkpoint-500.\n",
      "***** Running training *****\n",
      "  Num examples = 320000\n",
      "  Num Epochs = 9223372036854775807\n",
      "  Instantaneous batch size per device = 64\n",
      "  Total train batch size (w. parallel, distributed & accumulation) = 64\n",
      "  Gradient Accumulation steps = 1\n",
      "  Total optimization steps = 5000\n",
      "  Number of trainable parameters = 72593920\n",
      "  Continuing training from checkpoint, will skip to saved global_step\n",
      "  Continuing training from epoch 0\n",
      "  Continuing training from global step 500\n"
     ]
    },
    {
     "data": {
      "text/html": [
       "\n",
       "    <div>\n",
       "      \n",
       "      <progress value='5000' max='5000' style='width:300px; height:20px; vertical-align: middle;'></progress>\n",
       "      [5000/5000 14:40:03, Epoch 42/9223372036854775807]\n",
       "    </div>\n",
       "    <table border=\"1\" class=\"dataframe\">\n",
       "  <thead>\n",
       " <tr style=\"text-align: left;\">\n",
       "      <th>Step</th>\n",
       "      <th>Training Loss</th>\n",
       "      <th>Validation Loss</th>\n",
       "      <th>Wer</th>\n",
       "    </tr>\n",
       "  </thead>\n",
       "  <tbody>\n",
       "    <tr>\n",
       "      <td>1000</td>\n",
       "      <td>0.337700</td>\n",
       "      <td>0.247655</td>\n",
       "      <td>56.204380</td>\n",
       "    </tr>\n",
       "    <tr>\n",
       "      <td>1500</td>\n",
       "      <td>0.250000</td>\n",
       "      <td>0.224129</td>\n",
       "      <td>49.513382</td>\n",
       "    </tr>\n",
       "    <tr>\n",
       "      <td>2000</td>\n",
       "      <td>0.200900</td>\n",
       "      <td>0.215840</td>\n",
       "      <td>46.958637</td>\n",
       "    </tr>\n",
       "    <tr>\n",
       "      <td>2500</td>\n",
       "      <td>0.167400</td>\n",
       "      <td>0.218817</td>\n",
       "      <td>49.391727</td>\n",
       "    </tr>\n",
       "    <tr>\n",
       "      <td>3000</td>\n",
       "      <td>0.142000</td>\n",
       "      <td>0.219395</td>\n",
       "      <td>49.635036</td>\n",
       "    </tr>\n",
       "    <tr>\n",
       "      <td>3500</td>\n",
       "      <td>0.123000</td>\n",
       "      <td>0.228036</td>\n",
       "      <td>49.756691</td>\n",
       "    </tr>\n",
       "    <tr>\n",
       "      <td>4000</td>\n",
       "      <td>0.110300</td>\n",
       "      <td>0.242418</td>\n",
       "      <td>51.459854</td>\n",
       "    </tr>\n",
       "    <tr>\n",
       "      <td>4500</td>\n",
       "      <td>0.099900</td>\n",
       "      <td>0.243517</td>\n",
       "      <td>50.608273</td>\n",
       "    </tr>\n",
       "    <tr>\n",
       "      <td>5000</td>\n",
       "      <td>0.095100</td>\n",
       "      <td>0.245589</td>\n",
       "      <td>48.053528</td>\n",
       "    </tr>\n",
       "  </tbody>\n",
       "</table><p>\n",
       "    <div>\n",
       "      \n",
       "      <progress value='4' max='4' style='width:300px; height:20px; vertical-align: middle;'></progress>\n",
       "      [4/4 00:51]\n",
       "    </div>\n",
       "    "
      ],
      "text/plain": [
       "<IPython.core.display.HTML object>"
      ]
     },
     "metadata": {},
     "output_type": "display_data"
    },
    {
     "name": "stderr",
     "output_type": "stream",
     "text": [
      "***** Running Prediction *****\n",
      "  Num examples = 100\n",
      "  Batch size = 32\n",
      "***** Running Prediction *****\n",
      "  Num examples = 100\n",
      "  Batch size = 32\n",
      "***** Running Evaluation *****\n",
      "  Num examples = 100\n",
      "  Batch size = 32\n",
      "***** Running Prediction *****\n",
      "  Num examples = 100\n",
      "  Batch size = 32\n",
      "Saving model checkpoint to ./whisper-base-ml/checkpoint-1000\n",
      "Configuration saved in ./whisper-base-ml/checkpoint-1000/config.json\n",
      "Model weights saved in ./whisper-base-ml/checkpoint-1000/pytorch_model.bin\n",
      "Feature extractor saved in ./whisper-base-ml/checkpoint-1000/preprocessor_config.json\n",
      "tokenizer config file saved in ./whisper-base-ml/checkpoint-1000/tokenizer_config.json\n",
      "Special tokens file saved in ./whisper-base-ml/checkpoint-1000/special_tokens_map.json\n",
      "added tokens file saved in ./whisper-base-ml/checkpoint-1000/added_tokens.json\n",
      "Feature extractor saved in ./whisper-base-ml/preprocessor_config.json\n",
      "tokenizer config file saved in ./whisper-base-ml/tokenizer_config.json\n",
      "Special tokens file saved in ./whisper-base-ml/special_tokens_map.json\n",
      "added tokens file saved in ./whisper-base-ml/added_tokens.json\n",
      "Several commits (2) will be pushed upstream.\n",
      "Saving model checkpoint to /tmp/tmpvb8_ambh\n",
      "Configuration saved in /tmp/tmpvb8_ambh/config.json\n",
      "Model weights saved in /tmp/tmpvb8_ambh/pytorch_model.bin\n",
      "Feature extractor saved in /tmp/tmpvb8_ambh/preprocessor_config.json\n",
      "tokenizer config file saved in /tmp/tmpvb8_ambh/tokenizer_config.json\n",
      "Special tokens file saved in /tmp/tmpvb8_ambh/special_tokens_map.json\n",
      "added tokens file saved in /tmp/tmpvb8_ambh/added_tokens.json\n",
      "Saving model checkpoint to ./whisper-base-ml\n",
      "Configuration saved in ./whisper-base-ml/config.json\n",
      "Model weights saved in ./whisper-base-ml/pytorch_model.bin\n",
      "Feature extractor saved in ./whisper-base-ml/preprocessor_config.json\n",
      "tokenizer config file saved in ./whisper-base-ml/tokenizer_config.json\n",
      "Special tokens file saved in ./whisper-base-ml/special_tokens_map.json\n",
      "added tokens file saved in ./whisper-base-ml/added_tokens.json\n",
      "Several commits (3) will be pushed upstream.\n",
      "The progress bars may be unreliable.\n",
      "remote: Scanning LFS files for validity, may be slow...        \n",
      "remote: LFS file scan complete.        \n",
      "To https://huggingface.co/parambharat/whisper-base-ml\n",
      "   4684598..17911f5  main -> main\n",
      "\n",
      "Dropping the following result as it does not have all the necessary fields:\n",
      "{'task': {'name': 'Automatic Speech Recognition', 'type': 'automatic-speech-recognition'}}\n",
      "To https://huggingface.co/parambharat/whisper-base-ml\n",
      "   17911f5..20496f1  main -> main\n",
      "\n",
      "***** Running Prediction *****\n",
      "  Num examples = 100\n",
      "  Batch size = 32\n",
      "***** Running Prediction *****\n",
      "  Num examples = 100\n",
      "  Batch size = 32\n",
      "***** Running Evaluation *****\n",
      "  Num examples = 100\n",
      "  Batch size = 32\n",
      "***** Running Prediction *****\n",
      "  Num examples = 100\n",
      "  Batch size = 32\n",
      "Saving model checkpoint to ./whisper-base-ml/checkpoint-1500\n",
      "Configuration saved in ./whisper-base-ml/checkpoint-1500/config.json\n",
      "Model weights saved in ./whisper-base-ml/checkpoint-1500/pytorch_model.bin\n",
      "Feature extractor saved in ./whisper-base-ml/checkpoint-1500/preprocessor_config.json\n",
      "tokenizer config file saved in ./whisper-base-ml/checkpoint-1500/tokenizer_config.json\n",
      "Special tokens file saved in ./whisper-base-ml/checkpoint-1500/special_tokens_map.json\n",
      "added tokens file saved in ./whisper-base-ml/checkpoint-1500/added_tokens.json\n",
      "Feature extractor saved in ./whisper-base-ml/preprocessor_config.json\n",
      "tokenizer config file saved in ./whisper-base-ml/tokenizer_config.json\n",
      "Special tokens file saved in ./whisper-base-ml/special_tokens_map.json\n",
      "added tokens file saved in ./whisper-base-ml/added_tokens.json\n",
      "Saving model checkpoint to /tmp/tmpf70gab2k\n",
      "Configuration saved in /tmp/tmpf70gab2k/config.json\n",
      "Model weights saved in /tmp/tmpf70gab2k/pytorch_model.bin\n",
      "Feature extractor saved in /tmp/tmpf70gab2k/preprocessor_config.json\n",
      "tokenizer config file saved in /tmp/tmpf70gab2k/tokenizer_config.json\n",
      "Special tokens file saved in /tmp/tmpf70gab2k/special_tokens_map.json\n",
      "added tokens file saved in /tmp/tmpf70gab2k/added_tokens.json\n",
      "Saving model checkpoint to ./whisper-base-ml\n",
      "Configuration saved in ./whisper-base-ml/config.json\n",
      "Model weights saved in ./whisper-base-ml/pytorch_model.bin\n",
      "Feature extractor saved in ./whisper-base-ml/preprocessor_config.json\n",
      "tokenizer config file saved in ./whisper-base-ml/tokenizer_config.json\n",
      "Special tokens file saved in ./whisper-base-ml/special_tokens_map.json\n",
      "added tokens file saved in ./whisper-base-ml/added_tokens.json\n",
      "remote: Scanning LFS files for validity, may be slow...        \n",
      "remote: LFS file scan complete.        \n",
      "To https://huggingface.co/parambharat/whisper-base-ml\n",
      "   acbc389..deaefce  main -> main\n",
      "\n",
      "Dropping the following result as it does not have all the necessary fields:\n",
      "{'task': {'name': 'Automatic Speech Recognition', 'type': 'automatic-speech-recognition'}}\n",
      "***** Running Prediction *****\n",
      "  Num examples = 100\n",
      "  Batch size = 32\n",
      "***** Running Prediction *****\n",
      "  Num examples = 100\n",
      "  Batch size = 32\n",
      "***** Running Evaluation *****\n",
      "  Num examples = 100\n",
      "  Batch size = 32\n",
      "***** Running Prediction *****\n",
      "  Num examples = 100\n",
      "  Batch size = 32\n",
      "Saving model checkpoint to ./whisper-base-ml/checkpoint-2000\n",
      "Configuration saved in ./whisper-base-ml/checkpoint-2000/config.json\n",
      "Model weights saved in ./whisper-base-ml/checkpoint-2000/pytorch_model.bin\n",
      "Feature extractor saved in ./whisper-base-ml/checkpoint-2000/preprocessor_config.json\n",
      "tokenizer config file saved in ./whisper-base-ml/checkpoint-2000/tokenizer_config.json\n",
      "Special tokens file saved in ./whisper-base-ml/checkpoint-2000/special_tokens_map.json\n",
      "added tokens file saved in ./whisper-base-ml/checkpoint-2000/added_tokens.json\n",
      "Feature extractor saved in ./whisper-base-ml/preprocessor_config.json\n",
      "tokenizer config file saved in ./whisper-base-ml/tokenizer_config.json\n",
      "Special tokens file saved in ./whisper-base-ml/special_tokens_map.json\n",
      "added tokens file saved in ./whisper-base-ml/added_tokens.json\n",
      "Saving model checkpoint to /tmp/tmpohjy5zz3\n",
      "Configuration saved in /tmp/tmpohjy5zz3/config.json\n",
      "Model weights saved in /tmp/tmpohjy5zz3/pytorch_model.bin\n",
      "Feature extractor saved in /tmp/tmpohjy5zz3/preprocessor_config.json\n",
      "tokenizer config file saved in /tmp/tmpohjy5zz3/tokenizer_config.json\n",
      "Special tokens file saved in /tmp/tmpohjy5zz3/special_tokens_map.json\n",
      "added tokens file saved in /tmp/tmpohjy5zz3/added_tokens.json\n",
      "Saving model checkpoint to ./whisper-base-ml\n",
      "Configuration saved in ./whisper-base-ml/config.json\n",
      "Model weights saved in ./whisper-base-ml/pytorch_model.bin\n",
      "Feature extractor saved in ./whisper-base-ml/preprocessor_config.json\n",
      "tokenizer config file saved in ./whisper-base-ml/tokenizer_config.json\n",
      "Special tokens file saved in ./whisper-base-ml/special_tokens_map.json\n",
      "added tokens file saved in ./whisper-base-ml/added_tokens.json\n",
      "remote: Scanning LFS files for validity, may be slow...        \n",
      "remote: LFS file scan complete.        \n",
      "To https://huggingface.co/parambharat/whisper-base-ml\n",
      "   29a6745..b138b9d  main -> main\n",
      "\n",
      "Dropping the following result as it does not have all the necessary fields:\n",
      "{'task': {'name': 'Automatic Speech Recognition', 'type': 'automatic-speech-recognition'}}\n",
      "***** Running Prediction *****\n",
      "  Num examples = 100\n",
      "  Batch size = 32\n",
      "***** Running Prediction *****\n",
      "  Num examples = 100\n",
      "  Batch size = 32\n",
      "***** Running Evaluation *****\n",
      "  Num examples = 100\n",
      "  Batch size = 32\n",
      "***** Running Prediction *****\n",
      "  Num examples = 100\n",
      "  Batch size = 32\n",
      "Saving model checkpoint to ./whisper-base-ml/checkpoint-2500\n",
      "Configuration saved in ./whisper-base-ml/checkpoint-2500/config.json\n",
      "Model weights saved in ./whisper-base-ml/checkpoint-2500/pytorch_model.bin\n",
      "Feature extractor saved in ./whisper-base-ml/checkpoint-2500/preprocessor_config.json\n",
      "tokenizer config file saved in ./whisper-base-ml/checkpoint-2500/tokenizer_config.json\n",
      "Special tokens file saved in ./whisper-base-ml/checkpoint-2500/special_tokens_map.json\n",
      "added tokens file saved in ./whisper-base-ml/checkpoint-2500/added_tokens.json\n",
      "Feature extractor saved in ./whisper-base-ml/preprocessor_config.json\n",
      "tokenizer config file saved in ./whisper-base-ml/tokenizer_config.json\n",
      "Special tokens file saved in ./whisper-base-ml/special_tokens_map.json\n"
     ]
    },
    {
     "name": "stderr",
     "output_type": "stream",
     "text": [
      "added tokens file saved in ./whisper-base-ml/added_tokens.json\n",
      "Deleting older checkpoint [whisper-base-ml/checkpoint-500] due to args.save_total_limit\n",
      "Saving model checkpoint to /tmp/tmpi05zk3px\n",
      "Configuration saved in /tmp/tmpi05zk3px/config.json\n",
      "Model weights saved in /tmp/tmpi05zk3px/pytorch_model.bin\n",
      "Feature extractor saved in /tmp/tmpi05zk3px/preprocessor_config.json\n",
      "tokenizer config file saved in /tmp/tmpi05zk3px/tokenizer_config.json\n",
      "Special tokens file saved in /tmp/tmpi05zk3px/special_tokens_map.json\n",
      "added tokens file saved in /tmp/tmpi05zk3px/added_tokens.json\n",
      "Saving model checkpoint to ./whisper-base-ml\n",
      "Configuration saved in ./whisper-base-ml/config.json\n",
      "Model weights saved in ./whisper-base-ml/pytorch_model.bin\n",
      "Feature extractor saved in ./whisper-base-ml/preprocessor_config.json\n",
      "tokenizer config file saved in ./whisper-base-ml/tokenizer_config.json\n",
      "Special tokens file saved in ./whisper-base-ml/special_tokens_map.json\n",
      "added tokens file saved in ./whisper-base-ml/added_tokens.json\n",
      "remote: Scanning LFS files for validity, may be slow...        \n",
      "remote: LFS file scan complete.        \n",
      "To https://huggingface.co/parambharat/whisper-base-ml\n",
      "   f4aec93..00e0d0a  main -> main\n",
      "\n",
      "Dropping the following result as it does not have all the necessary fields:\n",
      "{'task': {'name': 'Automatic Speech Recognition', 'type': 'automatic-speech-recognition'}}\n",
      "***** Running Prediction *****\n",
      "  Num examples = 100\n",
      "  Batch size = 32\n",
      "***** Running Prediction *****\n",
      "  Num examples = 100\n",
      "  Batch size = 32\n",
      "***** Running Evaluation *****\n",
      "  Num examples = 100\n",
      "  Batch size = 32\n",
      "***** Running Prediction *****\n",
      "  Num examples = 100\n",
      "  Batch size = 32\n",
      "Saving model checkpoint to ./whisper-base-ml/checkpoint-3000\n",
      "Configuration saved in ./whisper-base-ml/checkpoint-3000/config.json\n",
      "Model weights saved in ./whisper-base-ml/checkpoint-3000/pytorch_model.bin\n",
      "Feature extractor saved in ./whisper-base-ml/checkpoint-3000/preprocessor_config.json\n",
      "tokenizer config file saved in ./whisper-base-ml/checkpoint-3000/tokenizer_config.json\n",
      "Special tokens file saved in ./whisper-base-ml/checkpoint-3000/special_tokens_map.json\n",
      "added tokens file saved in ./whisper-base-ml/checkpoint-3000/added_tokens.json\n",
      "Feature extractor saved in ./whisper-base-ml/preprocessor_config.json\n",
      "tokenizer config file saved in ./whisper-base-ml/tokenizer_config.json\n",
      "Special tokens file saved in ./whisper-base-ml/special_tokens_map.json\n",
      "added tokens file saved in ./whisper-base-ml/added_tokens.json\n",
      "Deleting older checkpoint [whisper-base-ml/checkpoint-1000] due to args.save_total_limit\n",
      "Saving model checkpoint to /tmp/tmpe5zim7g8\n",
      "Configuration saved in /tmp/tmpe5zim7g8/config.json\n",
      "Model weights saved in /tmp/tmpe5zim7g8/pytorch_model.bin\n",
      "Feature extractor saved in /tmp/tmpe5zim7g8/preprocessor_config.json\n",
      "tokenizer config file saved in /tmp/tmpe5zim7g8/tokenizer_config.json\n",
      "Special tokens file saved in /tmp/tmpe5zim7g8/special_tokens_map.json\n",
      "added tokens file saved in /tmp/tmpe5zim7g8/added_tokens.json\n",
      "Saving model checkpoint to ./whisper-base-ml\n",
      "Configuration saved in ./whisper-base-ml/config.json\n",
      "Model weights saved in ./whisper-base-ml/pytorch_model.bin\n",
      "Feature extractor saved in ./whisper-base-ml/preprocessor_config.json\n",
      "tokenizer config file saved in ./whisper-base-ml/tokenizer_config.json\n",
      "Special tokens file saved in ./whisper-base-ml/special_tokens_map.json\n",
      "added tokens file saved in ./whisper-base-ml/added_tokens.json\n",
      "remote: Scanning LFS files for validity, may be slow...        \n",
      "remote: LFS file scan complete.        \n",
      "To https://huggingface.co/parambharat/whisper-base-ml\n",
      "   135c619..43d730b  main -> main\n",
      "\n",
      "Dropping the following result as it does not have all the necessary fields:\n",
      "{'task': {'name': 'Automatic Speech Recognition', 'type': 'automatic-speech-recognition'}}\n",
      "***** Running Prediction *****\n",
      "  Num examples = 100\n",
      "  Batch size = 32\n",
      "***** Running Prediction *****\n",
      "  Num examples = 100\n",
      "  Batch size = 32\n",
      "***** Running Evaluation *****\n",
      "  Num examples = 100\n",
      "  Batch size = 32\n",
      "***** Running Prediction *****\n",
      "  Num examples = 100\n",
      "  Batch size = 32\n",
      "Saving model checkpoint to ./whisper-base-ml/checkpoint-3500\n",
      "Configuration saved in ./whisper-base-ml/checkpoint-3500/config.json\n",
      "Model weights saved in ./whisper-base-ml/checkpoint-3500/pytorch_model.bin\n",
      "Feature extractor saved in ./whisper-base-ml/checkpoint-3500/preprocessor_config.json\n",
      "tokenizer config file saved in ./whisper-base-ml/checkpoint-3500/tokenizer_config.json\n",
      "Special tokens file saved in ./whisper-base-ml/checkpoint-3500/special_tokens_map.json\n",
      "added tokens file saved in ./whisper-base-ml/checkpoint-3500/added_tokens.json\n",
      "Feature extractor saved in ./whisper-base-ml/preprocessor_config.json\n",
      "tokenizer config file saved in ./whisper-base-ml/tokenizer_config.json\n",
      "Special tokens file saved in ./whisper-base-ml/special_tokens_map.json\n",
      "added tokens file saved in ./whisper-base-ml/added_tokens.json\n",
      "Deleting older checkpoint [whisper-base-ml/checkpoint-1500] due to args.save_total_limit\n",
      "Saving model checkpoint to /tmp/tmp_kcuf_nd\n",
      "Configuration saved in /tmp/tmp_kcuf_nd/config.json\n",
      "Model weights saved in /tmp/tmp_kcuf_nd/pytorch_model.bin\n",
      "Feature extractor saved in /tmp/tmp_kcuf_nd/preprocessor_config.json\n",
      "tokenizer config file saved in /tmp/tmp_kcuf_nd/tokenizer_config.json\n",
      "Special tokens file saved in /tmp/tmp_kcuf_nd/special_tokens_map.json\n",
      "added tokens file saved in /tmp/tmp_kcuf_nd/added_tokens.json\n",
      "Saving model checkpoint to ./whisper-base-ml\n",
      "Configuration saved in ./whisper-base-ml/config.json\n",
      "Model weights saved in ./whisper-base-ml/pytorch_model.bin\n",
      "Feature extractor saved in ./whisper-base-ml/preprocessor_config.json\n",
      "tokenizer config file saved in ./whisper-base-ml/tokenizer_config.json\n",
      "Special tokens file saved in ./whisper-base-ml/special_tokens_map.json\n",
      "added tokens file saved in ./whisper-base-ml/added_tokens.json\n",
      "remote: Scanning LFS files for validity, may be slow...        \n",
      "remote: LFS file scan complete.        \n",
      "To https://huggingface.co/parambharat/whisper-base-ml\n",
      "   4f78b62..162895d  main -> main\n",
      "\n",
      "Dropping the following result as it does not have all the necessary fields:\n",
      "{'task': {'name': 'Automatic Speech Recognition', 'type': 'automatic-speech-recognition'}}\n",
      "***** Running Prediction *****\n",
      "  Num examples = 100\n",
      "  Batch size = 32\n",
      "***** Running Prediction *****\n",
      "  Num examples = 100\n",
      "  Batch size = 32\n",
      "***** Running Evaluation *****\n",
      "  Num examples = 100\n",
      "  Batch size = 32\n",
      "***** Running Prediction *****\n",
      "  Num examples = 100\n",
      "  Batch size = 32\n",
      "Saving model checkpoint to ./whisper-base-ml/checkpoint-4000\n",
      "Configuration saved in ./whisper-base-ml/checkpoint-4000/config.json\n",
      "Model weights saved in ./whisper-base-ml/checkpoint-4000/pytorch_model.bin\n",
      "Feature extractor saved in ./whisper-base-ml/checkpoint-4000/preprocessor_config.json\n",
      "tokenizer config file saved in ./whisper-base-ml/checkpoint-4000/tokenizer_config.json\n",
      "Special tokens file saved in ./whisper-base-ml/checkpoint-4000/special_tokens_map.json\n",
      "added tokens file saved in ./whisper-base-ml/checkpoint-4000/added_tokens.json\n",
      "Feature extractor saved in ./whisper-base-ml/preprocessor_config.json\n",
      "tokenizer config file saved in ./whisper-base-ml/tokenizer_config.json\n",
      "Special tokens file saved in ./whisper-base-ml/special_tokens_map.json\n",
      "added tokens file saved in ./whisper-base-ml/added_tokens.json\n",
      "Deleting older checkpoint [whisper-base-ml/checkpoint-2500] due to args.save_total_limit\n",
      "Saving model checkpoint to /tmp/tmpjyqsgnj7\n",
      "Configuration saved in /tmp/tmpjyqsgnj7/config.json\n",
      "Model weights saved in /tmp/tmpjyqsgnj7/pytorch_model.bin\n",
      "Feature extractor saved in /tmp/tmpjyqsgnj7/preprocessor_config.json\n",
      "tokenizer config file saved in /tmp/tmpjyqsgnj7/tokenizer_config.json\n",
      "Special tokens file saved in /tmp/tmpjyqsgnj7/special_tokens_map.json\n",
      "added tokens file saved in /tmp/tmpjyqsgnj7/added_tokens.json\n",
      "Saving model checkpoint to ./whisper-base-ml\n",
      "Configuration saved in ./whisper-base-ml/config.json\n",
      "Model weights saved in ./whisper-base-ml/pytorch_model.bin\n",
      "Feature extractor saved in ./whisper-base-ml/preprocessor_config.json\n",
      "tokenizer config file saved in ./whisper-base-ml/tokenizer_config.json\n",
      "Special tokens file saved in ./whisper-base-ml/special_tokens_map.json\n",
      "added tokens file saved in ./whisper-base-ml/added_tokens.json\n"
     ]
    },
    {
     "name": "stderr",
     "output_type": "stream",
     "text": [
      "remote: Scanning LFS files for validity, may be slow...        \n",
      "remote: LFS file scan complete.        \n",
      "To https://huggingface.co/parambharat/whisper-base-ml\n",
      "   4c7d14d..0b35718  main -> main\n",
      "\n",
      "Dropping the following result as it does not have all the necessary fields:\n",
      "{'task': {'name': 'Automatic Speech Recognition', 'type': 'automatic-speech-recognition'}}\n",
      "***** Running Prediction *****\n",
      "  Num examples = 100\n",
      "  Batch size = 32\n",
      "***** Running Prediction *****\n",
      "  Num examples = 100\n",
      "  Batch size = 32\n",
      "***** Running Evaluation *****\n",
      "  Num examples = 100\n",
      "  Batch size = 32\n",
      "***** Running Prediction *****\n",
      "  Num examples = 100\n",
      "  Batch size = 32\n",
      "Saving model checkpoint to ./whisper-base-ml/checkpoint-4500\n",
      "Configuration saved in ./whisper-base-ml/checkpoint-4500/config.json\n",
      "Model weights saved in ./whisper-base-ml/checkpoint-4500/pytorch_model.bin\n",
      "Feature extractor saved in ./whisper-base-ml/checkpoint-4500/preprocessor_config.json\n",
      "tokenizer config file saved in ./whisper-base-ml/checkpoint-4500/tokenizer_config.json\n",
      "Special tokens file saved in ./whisper-base-ml/checkpoint-4500/special_tokens_map.json\n",
      "added tokens file saved in ./whisper-base-ml/checkpoint-4500/added_tokens.json\n",
      "Feature extractor saved in ./whisper-base-ml/preprocessor_config.json\n",
      "tokenizer config file saved in ./whisper-base-ml/tokenizer_config.json\n",
      "Special tokens file saved in ./whisper-base-ml/special_tokens_map.json\n",
      "added tokens file saved in ./whisper-base-ml/added_tokens.json\n",
      "Deleting older checkpoint [whisper-base-ml/checkpoint-3000] due to args.save_total_limit\n",
      "Saving model checkpoint to /tmp/tmpp3t_5koo\n",
      "Configuration saved in /tmp/tmpp3t_5koo/config.json\n",
      "Model weights saved in /tmp/tmpp3t_5koo/pytorch_model.bin\n",
      "Feature extractor saved in /tmp/tmpp3t_5koo/preprocessor_config.json\n",
      "tokenizer config file saved in /tmp/tmpp3t_5koo/tokenizer_config.json\n",
      "Special tokens file saved in /tmp/tmpp3t_5koo/special_tokens_map.json\n",
      "added tokens file saved in /tmp/tmpp3t_5koo/added_tokens.json\n",
      "Saving model checkpoint to ./whisper-base-ml\n",
      "Configuration saved in ./whisper-base-ml/config.json\n",
      "Model weights saved in ./whisper-base-ml/pytorch_model.bin\n",
      "Feature extractor saved in ./whisper-base-ml/preprocessor_config.json\n",
      "tokenizer config file saved in ./whisper-base-ml/tokenizer_config.json\n",
      "Special tokens file saved in ./whisper-base-ml/special_tokens_map.json\n",
      "added tokens file saved in ./whisper-base-ml/added_tokens.json\n",
      "remote: Scanning LFS files for validity, may be slow...        \n",
      "remote: LFS file scan complete.        \n",
      "To https://huggingface.co/parambharat/whisper-base-ml\n",
      "   beb6767..095e78c  main -> main\n",
      "\n",
      "Dropping the following result as it does not have all the necessary fields:\n",
      "{'task': {'name': 'Automatic Speech Recognition', 'type': 'automatic-speech-recognition'}}\n",
      "***** Running Prediction *****\n",
      "  Num examples = 100\n",
      "  Batch size = 32\n",
      "***** Running Prediction *****\n",
      "  Num examples = 100\n",
      "  Batch size = 32\n",
      "***** Running Evaluation *****\n",
      "  Num examples = 100\n",
      "  Batch size = 32\n",
      "***** Running Prediction *****\n",
      "  Num examples = 100\n",
      "  Batch size = 32\n",
      "Saving model checkpoint to ./whisper-base-ml/checkpoint-5000\n",
      "Configuration saved in ./whisper-base-ml/checkpoint-5000/config.json\n",
      "Model weights saved in ./whisper-base-ml/checkpoint-5000/pytorch_model.bin\n",
      "Feature extractor saved in ./whisper-base-ml/checkpoint-5000/preprocessor_config.json\n",
      "tokenizer config file saved in ./whisper-base-ml/checkpoint-5000/tokenizer_config.json\n",
      "Special tokens file saved in ./whisper-base-ml/checkpoint-5000/special_tokens_map.json\n",
      "added tokens file saved in ./whisper-base-ml/checkpoint-5000/added_tokens.json\n",
      "Feature extractor saved in ./whisper-base-ml/preprocessor_config.json\n",
      "tokenizer config file saved in ./whisper-base-ml/tokenizer_config.json\n",
      "Special tokens file saved in ./whisper-base-ml/special_tokens_map.json\n",
      "added tokens file saved in ./whisper-base-ml/added_tokens.json\n",
      "Deleting older checkpoint [whisper-base-ml/checkpoint-3500] due to args.save_total_limit\n",
      "Saving model checkpoint to /tmp/tmpw9bgquvy\n",
      "Configuration saved in /tmp/tmpw9bgquvy/config.json\n",
      "Model weights saved in /tmp/tmpw9bgquvy/pytorch_model.bin\n",
      "Feature extractor saved in /tmp/tmpw9bgquvy/preprocessor_config.json\n",
      "tokenizer config file saved in /tmp/tmpw9bgquvy/tokenizer_config.json\n",
      "Special tokens file saved in /tmp/tmpw9bgquvy/special_tokens_map.json\n",
      "added tokens file saved in /tmp/tmpw9bgquvy/added_tokens.json\n",
      "Saving model checkpoint to ./whisper-base-ml\n",
      "Configuration saved in ./whisper-base-ml/config.json\n",
      "Model weights saved in ./whisper-base-ml/pytorch_model.bin\n",
      "Feature extractor saved in ./whisper-base-ml/preprocessor_config.json\n",
      "tokenizer config file saved in ./whisper-base-ml/tokenizer_config.json\n",
      "Special tokens file saved in ./whisper-base-ml/special_tokens_map.json\n",
      "added tokens file saved in ./whisper-base-ml/added_tokens.json\n",
      "Several commits (2) will be pushed upstream.\n",
      "The progress bars may be unreliable.\n"
     ]
    },
    {
     "data": {
      "application/vnd.jupyter.widget-view+json": {
       "model_id": "9a237d6ada4049529b4fa83533f4b0ae",
       "version_major": 2,
       "version_minor": 0
      },
      "text/plain": [
       "Upload file pytorch_model.bin:   0%|          | 32.0k/277M [00:00<?, ?B/s]"
      ]
     },
     "metadata": {},
     "output_type": "display_data"
    },
    {
     "name": "stderr",
     "output_type": "stream",
     "text": [
      "remote: Scanning LFS files for validity, may be slow...        \n",
      "remote: LFS file scan complete.        \n",
      "To https://huggingface.co/parambharat/whisper-base-ml\n",
      "   095e78c..7af8822  main -> main\n",
      "\n",
      "Dropping the following result as it does not have all the necessary fields:\n",
      "{'task': {'name': 'Automatic Speech Recognition', 'type': 'automatic-speech-recognition'}}\n",
      "\n",
      "\n",
      "Training completed. Do not forget to share your model on huggingface.co/models =)\n",
      "\n",
      "\n",
      "Loading best model from ./whisper-base-ml/checkpoint-2000 (score: 46.95863746958637).\n",
      "***** Running Prediction *****\n",
      "  Num examples = 100\n",
      "  Batch size = 32\n",
      "/home/ubuntu/whisper-finetuning/notebooks/./whisper-base-ml is already a clone of https://huggingface.co/parambharat/whisper-base-ml. Make sure you pull the latest changes with `repo.git_pull()`.\n",
      "max_steps is given, it will override any value given in num_train_epochs\n",
      "Using cuda_amp half precision backend\n",
      "Saving model checkpoint to /tmp/tmpludnc0k8\n",
      "Configuration saved in /tmp/tmpludnc0k8/config.json\n",
      "Model weights saved in /tmp/tmpludnc0k8/pytorch_model.bin\n",
      "Feature extractor saved in /tmp/tmpludnc0k8/preprocessor_config.json\n",
      "tokenizer config file saved in /tmp/tmpludnc0k8/tokenizer_config.json\n",
      "Special tokens file saved in /tmp/tmpludnc0k8/special_tokens_map.json\n",
      "added tokens file saved in /tmp/tmpludnc0k8/added_tokens.json\n",
      "Saving model checkpoint to ./whisper-base-ml\n",
      "Configuration saved in ./whisper-base-ml/config.json\n",
      "Model weights saved in ./whisper-base-ml/pytorch_model.bin\n",
      "Feature extractor saved in ./whisper-base-ml/preprocessor_config.json\n",
      "tokenizer config file saved in ./whisper-base-ml/tokenizer_config.json\n",
      "Special tokens file saved in ./whisper-base-ml/special_tokens_map.json\n",
      "added tokens file saved in ./whisper-base-ml/added_tokens.json\n",
      "remote: Scanning LFS files for validity, may be slow...        \n",
      "remote: LFS file scan complete.        \n",
      "To https://huggingface.co/parambharat/whisper-base-ml\n",
      "   7af8822..5b12b1c  main -> main\n",
      "\n",
      "Dropping the following result as it does not have all the necessary fields:\n",
      "{'task': {'name': 'Automatic Speech Recognition', 'type': 'automatic-speech-recognition'}}\n",
      "To https://huggingface.co/parambharat/whisper-base-ml\n",
      "   5b12b1c..9dc73f8  main -> main\n",
      "\n"
     ]
    },
    {
     "data": {
      "text/plain": [
       "TrainOutput(global_step=5000, training_loss=0.1624703357696533, metrics={'train_runtime': 52803.9868, 'train_samples_per_second': 6.06, 'train_steps_per_second': 0.095, 'total_flos': 2.060900433985536e+19, 'train_loss': 0.1624703357696533, 'epoch': 42.02})"
      ]
     },
     "execution_count": 35,
     "metadata": {},
     "output_type": "execute_result"
    }
   ],
   "source": [
    "trainer.train(resume_from_checkpoint=True)"
   ]
  },
  {
   "cell_type": "code",
   "execution_count": 36,
   "metadata": {
    "id": "sItye0uSabeD"
   },
   "outputs": [],
   "source": [
    "kwargs = {\n",
    "    \"language\": \"ml\",\n",
    "    \"model_name\": \"Whisper Base ML - Bharat Ramanathan\",  # a 'pretty' name for your model\n",
    "    \"finetuned_from\": \"openai/whisper-base\",\n",
    "    \"tasks\": \"automatic-speech-recognition\",\n",
    "    \"tags\": \"whisper-event\",\n",
    "}\n"
   ]
  },
  {
   "cell_type": "code",
   "execution_count": 37,
   "metadata": {},
   "outputs": [
    {
     "name": "stderr",
     "output_type": "stream",
     "text": [
      "Saving model checkpoint to ./whisper-base-ml\n",
      "Configuration saved in ./whisper-base-ml/config.json\n",
      "Model weights saved in ./whisper-base-ml/pytorch_model.bin\n",
      "Feature extractor saved in ./whisper-base-ml/preprocessor_config.json\n",
      "tokenizer config file saved in ./whisper-base-ml/tokenizer_config.json\n",
      "Special tokens file saved in ./whisper-base-ml/special_tokens_map.json\n",
      "added tokens file saved in ./whisper-base-ml/added_tokens.json\n",
      "Dropping the following result as it does not have all the necessary fields:\n",
      "{'task': {'name': 'Automatic Speech Recognition', 'type': 'automatic-speech-recognition'}, 'metrics': [{'name': 'Wer', 'type': 'wer', 'value': 48.05352798053528}]}\n",
      "To https://huggingface.co/parambharat/whisper-base-ml\n",
      "   9dc73f8..d8d0df5  main -> main\n",
      "\n"
     ]
    }
   ],
   "source": [
    "trainer.push_to_hub(**kwargs)"
   ]
  },
  {
   "cell_type": "code",
   "execution_count": 38,
   "metadata": {},
   "outputs": [
    {
     "data": {
      "text/html": [
       "Waiting for W&B process to finish... <strong style=\"color:green\">(success).</strong>"
      ],
      "text/plain": [
       "<IPython.core.display.HTML object>"
      ]
     },
     "metadata": {},
     "output_type": "display_data"
    },
    {
     "data": {
      "text/html": [
       "<style>\n",
       "    table.wandb td:nth-child(1) { padding: 0 10px; text-align: left ; width: auto;} td:nth-child(2) {text-align: left ; width: 100%}\n",
       "    .wandb-row { display: flex; flex-direction: row; flex-wrap: wrap; justify-content: flex-start; width: 100% }\n",
       "    .wandb-col { display: flex; flex-direction: column; flex-basis: 100%; flex: 1; padding: 10px; }\n",
       "    </style>\n",
       "<div class=\"wandb-row\"><div class=\"wandb-col\"><h3>Run history:</h3><br/><table class=\"wandb\"><tr><td>eval/loss</td><td>█▂▁▁▁▁▂▂▂▂</td></tr><tr><td>eval/runtime</td><td>▁▆▁▂▇▆▆▆▅█</td></tr><tr><td>eval/samples_per_second</td><td>█▃█▇▂▃▃▃▄▁</td></tr><tr><td>eval/steps_per_second</td><td>█▃▆▆▁▃▃▃▃▁</td></tr><tr><td>eval/wer</td><td>█▄▂▁▂▂▂▂▂▁</td></tr><tr><td>train/epoch</td><td>▁▁▁▁▁▁▂▂▂▃▃▃▃▄▄▄▅▅▅▆▆▆▆▆▇▇▇████</td></tr><tr><td>train/global_step</td><td>▁▁▁▁▂▂▂▂▂▃▃▃▃▄▄▄▄▄▄▄▅▅▅▅▅▆▆▆▆▇▇▇▇▇▇█████</td></tr><tr><td>train/learning_rate</td><td>▄██▇▇▆▆▆▅▅▅▄▄▃▃▃▂▂▁▁</td></tr><tr><td>train/loss</td><td>█▅▃▂▂▂▂▂▂▁▁▁▁▁▁▁▁▁▁▁</td></tr><tr><td>train/total_flos</td><td>▁</td></tr><tr><td>train/train_loss</td><td>▁</td></tr><tr><td>train/train_runtime</td><td>▁</td></tr><tr><td>train/train_samples_per_second</td><td>▁</td></tr><tr><td>train/train_steps_per_second</td><td>▁</td></tr></table><br/></div><div class=\"wandb-col\"><h3>Run summary:</h3><br/><table class=\"wandb\"><tr><td>eval/loss</td><td>0.24559</td></tr><tr><td>eval/runtime</td><td>80.7687</td></tr><tr><td>eval/samples_per_second</td><td>1.238</td></tr><tr><td>eval/steps_per_second</td><td>0.05</td></tr><tr><td>eval/wer</td><td>48.05353</td></tr><tr><td>train/epoch</td><td>42.02</td></tr><tr><td>train/global_step</td><td>5000</td></tr><tr><td>train/learning_rate</td><td>0.0</td></tr><tr><td>train/loss</td><td>0.0951</td></tr><tr><td>train/total_flos</td><td>2.060900433985536e+19</td></tr><tr><td>train/train_loss</td><td>0.16247</td></tr><tr><td>train/train_runtime</td><td>52803.9868</td></tr><tr><td>train/train_samples_per_second</td><td>6.06</td></tr><tr><td>train/train_steps_per_second</td><td>0.095</td></tr></table><br/></div></div>"
      ],
      "text/plain": [
       "<IPython.core.display.HTML object>"
      ]
     },
     "metadata": {},
     "output_type": "display_data"
    },
    {
     "data": {
      "text/html": [
       "Synced <strong style=\"color:#cdcd00\">stoic-surf-65</strong>: <a href=\"https://wandb.ai/parambharat/whisper_finetuning/runs/304br4np\" target=\"_blank\">https://wandb.ai/parambharat/whisper_finetuning/runs/304br4np</a><br/>Synced 5 W&B file(s), 31 media file(s), 140 artifact file(s) and 0 other file(s)"
      ],
      "text/plain": [
       "<IPython.core.display.HTML object>"
      ]
     },
     "metadata": {},
     "output_type": "display_data"
    },
    {
     "data": {
      "text/html": [
       "Find logs at: <code>./wandb/run-20221213_100413-304br4np/logs</code>"
      ],
      "text/plain": [
       "<IPython.core.display.HTML object>"
      ]
     },
     "metadata": {},
     "output_type": "display_data"
    }
   ],
   "source": [
    "wandb.finish()"
   ]
  },
  {
   "cell_type": "code",
   "execution_count": null,
   "metadata": {},
   "outputs": [],
   "source": []
  }
 ],
 "metadata": {
  "accelerator": "GPU",
  "colab": {
   "provenance": []
  },
  "gpuClass": "standard",
  "kernelspec": {
   "display_name": "Python 3 (ipykernel)",
   "language": "python",
   "name": "python3"
  },
  "language_info": {
   "codemirror_mode": {
    "name": "ipython",
    "version": 3
   },
   "file_extension": ".py",
   "mimetype": "text/x-python",
   "name": "python",
   "nbconvert_exporter": "python",
   "pygments_lexer": "ipython3",
   "version": "3.9.15"
  }
 },
 "nbformat": 4,
 "nbformat_minor": 1
}
