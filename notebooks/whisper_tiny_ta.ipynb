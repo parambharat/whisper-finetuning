{
 "cells": [
  {
   "cell_type": "code",
   "execution_count": 1,
   "metadata": {
    "id": "JKgmVNgVAD17"
   },
   "outputs": [],
   "source": [
    "# %%capture\n",
    "\n",
    "# !add-apt-repository -y ppa:jonathonf/ffmpeg-4\n",
    "# !apt update\n",
    "# !apt install -y ffmpeg\n",
    "\n",
    "# !pip uninstall -y transformers datasets \n",
    "# !pip install audiomentations\n",
    "# !pip install git+https://github.com/huggingface/datasets\n",
    "# !pip install git+https://github.com/huggingface/transformers\n",
    "# !pip install librosa soundfile\n",
    "# !pip install evaluate>=0.3.0\n",
    "# !pip install jiwer\n",
    "# !pip install gradio\n",
    "# !pip install more-itertools\n",
    "# !pip install wandb\n",
    "# !pip install bitsandbytes"
   ]
  },
  {
   "cell_type": "code",
   "execution_count": 2,
   "metadata": {
    "colab": {
     "base_uri": "https://localhost:8080/"
    },
    "id": "ZC8tW_tfNo-J",
    "outputId": "229393d0-5588-44f1-8b9c-2ba762e3c45f"
   },
   "outputs": [
    {
     "name": "stdout",
     "output_type": "stream",
     "text": [
      "env: WANDB_LOG_MODEL=True\n",
      "env: WANDB_WATCH=all\n",
      "env: WANDB_NOTEBOOK_NAME=whisper_base_ta\n"
     ]
    }
   ],
   "source": [
    "%set_env WANDB_LOG_MODEL=True\n",
    "%set_env WANDB_WATCH=all\n",
    "%set_env WANDB_NOTEBOOK_NAME=whisper_base_ta"
   ]
  },
  {
   "cell_type": "code",
   "execution_count": 3,
   "metadata": {
    "colab": {
     "base_uri": "https://localhost:8080/"
    },
    "id": "R2pNlZvdABCs",
    "outputId": "055ae780-d14e-4c17-8730-319e32b1aa00"
   },
   "outputs": [
    {
     "data": {
      "text/plain": [
       "True"
      ]
     },
     "execution_count": 3,
     "metadata": {},
     "output_type": "execute_result"
    }
   ],
   "source": [
    "from datasets import Dataset, IterableDatasetDict, load_dataset, interleave_datasets, Audio \n",
    "import evaluate\n",
    "\n",
    "import torch\n",
    "import string\n",
    "from dataclasses import dataclass\n",
    "from typing import Any, Dict, List, Union\n",
    "\n",
    "from transformers import WhisperForConditionalGeneration\n",
    "from transformers import WhisperProcessor\n",
    "from transformers import Seq2SeqTrainingArguments\n",
    "from transformers import Seq2SeqTrainer\n",
    "from transformers import WhisperTokenizer\n",
    "from transformers import WhisperFeatureExtractor\n",
    "import wandb\n",
    "from IPython.display import clear_output\n",
    "from audiomentations import Compose, AddGaussianNoise, TimeStretch, PitchShift, Shift\n",
    "import numpy as np\n",
    "from huggingface_hub import notebook_login\n",
    "from transformers import TrainerCallback\n",
    "from transformers.integrations import WandbCallback\n",
    "from transformers.trainer_pt_utils import IterableDatasetShard\n",
    "from torch.utils.data import IterableDataset\n",
    "from datasets import load_dataset, Audio\n",
    "from pathlib import Path\n",
    "import holoviews as hv\n",
    "import panel as pn\n",
    "import tempfile\n",
    "from bokeh.resources import INLINE\n",
    "\n",
    "\n",
    "from io import StringIO\n",
    "import pandas as pd\n",
    "import warnings\n",
    "import jiwer\n",
    "warnings.filterwarnings('ignore')\n",
    "hv.extension(\"bokeh\", logo=False)\n",
    "\n",
    "clear_output()\n",
    "torch.cuda.is_available()"
   ]
  },
  {
   "cell_type": "code",
   "execution_count": 4,
   "metadata": {
    "id": "nGAUsPySNYna"
   },
   "outputs": [],
   "source": [
    "# wandb.login()"
   ]
  },
  {
   "cell_type": "code",
   "execution_count": 5,
   "metadata": {
    "id": "hw5u7Q-QOlKB"
   },
   "outputs": [],
   "source": [
    "# notebook_login()"
   ]
  },
  {
   "cell_type": "code",
   "execution_count": 6,
   "metadata": {
    "colab": {
     "base_uri": "https://localhost:8080/",
     "height": 121
    },
    "id": "pBO2LqJ4NW3T",
    "outputId": "b12c203e-e11f-473f-aa4f-5d2fd6711930"
   },
   "outputs": [
    {
     "name": "stderr",
     "output_type": "stream",
     "text": [
      "\u001b[34m\u001b[1mwandb\u001b[0m: \u001b[33mWARNING\u001b[0m WANDB_NOTEBOOK_NAME should be a path to a notebook file, couldn't find whisper_base_ta.\n",
      "\u001b[34m\u001b[1mwandb\u001b[0m: Currently logged in as: \u001b[33mparambharat\u001b[0m. Use \u001b[1m`wandb login --relogin`\u001b[0m to force relogin\n"
     ]
    },
    {
     "data": {
      "application/vnd.jupyter.widget-view+json": {
       "model_id": "0e52ada01673482b8136802b485dd197",
       "version_major": 2,
       "version_minor": 0
      },
      "text/plain": [
       "VBox(children=(Label(value='Waiting for wandb.init()...\\r'), FloatProgress(value=0.01666903588338755, max=1.0)…"
      ]
     },
     "metadata": {},
     "output_type": "display_data"
    },
    {
     "data": {
      "text/html": [
       "wandb version 0.13.6 is available!  To upgrade, please run:\n",
       " $ pip install wandb --upgrade"
      ],
      "text/plain": [
       "<IPython.core.display.HTML object>"
      ]
     },
     "metadata": {},
     "output_type": "display_data"
    },
    {
     "data": {
      "text/html": [
       "Tracking run with wandb version 0.13.5"
      ],
      "text/plain": [
       "<IPython.core.display.HTML object>"
      ]
     },
     "metadata": {},
     "output_type": "display_data"
    },
    {
     "data": {
      "text/html": [
       "Run data is saved locally in <code>/home/mugan/Documents/harvard/cscie89/final_project/wandb/run-20221209_011247-2k10w4qq</code>"
      ],
      "text/plain": [
       "<IPython.core.display.HTML object>"
      ]
     },
     "metadata": {},
     "output_type": "display_data"
    },
    {
     "data": {
      "text/html": [
       "Resuming run <strong><a href=\"https://wandb.ai/parambharat/whisper_finetuning/runs/2k10w4qq\" target=\"_blank\">dazzling-galaxy-27</a></strong> to <a href=\"https://wandb.ai/parambharat/whisper_finetuning\" target=\"_blank\">Weights & Biases</a> (<a href=\"https://wandb.me/run\" target=\"_blank\">docs</a>)<br/>"
      ],
      "text/plain": [
       "<IPython.core.display.HTML object>"
      ]
     },
     "metadata": {},
     "output_type": "display_data"
    }
   ],
   "source": [
    "# run = wandb.init(project=\"whisper_finetuning\", job_type=\"fine-tuning\", group=\"tiny\" )\n",
    "# run = wandb.init(project=\"whisper_finetuning\", job_type=\"fine-tuning\", group=\"tiny\", resume=\"must\", id=\"2k10w4qq\" )"
   ]
  },
  {
   "cell_type": "code",
   "execution_count": 7,
   "metadata": {
    "id": "PuTCIEJSBIOM"
   },
   "outputs": [],
   "source": [
    "def load_data_splits(is_streaming=True, stopping_strategy=\"all_exhausted\"):\n",
    "    dataset_dict = {}\n",
    "    data_dict = load_dataset(\"datasets/tamil_asr_corpus/\", streaming=is_streaming)\n",
    "        \n",
    "    return data_dict"
   ]
  },
  {
   "cell_type": "code",
   "execution_count": 8,
   "metadata": {
    "colab": {
     "base_uri": "https://localhost:8080/"
    },
    "id": "p-v-YdYPBMkM",
    "outputId": "9592fddd-37a5-47c6-f28a-c8577c5965e8"
   },
   "outputs": [],
   "source": [
    "dataset_dict = load_data_splits()"
   ]
  },
  {
   "cell_type": "code",
   "execution_count": 9,
   "metadata": {
    "id": "kV_BfJISBPu8"
   },
   "outputs": [],
   "source": [
    "augment_waveform = Compose([\n",
    "    AddGaussianNoise(min_amplitude=0.005, max_amplitude=0.015, p=0.2),\n",
    "    TimeStretch(min_rate=0.8, max_rate=1.25, p=0.2, leave_length_unchanged=False),\n",
    "    PitchShift(min_semitones=-4, max_semitones=4, p=0.2)\n",
    "    ,])\n",
    "\n",
    "def augment_dataset(batch):\n",
    "\n",
    "    audio = batch[\"audio\"][\"array\"]\n",
    "    # apply augmentation\n",
    "    augmented_audio = augment_waveform(samples=audio, sample_rate=16000)\n",
    "\n",
    "    batch[\"audio\"][\"array\"] = augmented_audio\n",
    "\n",
    "    return batch\n",
    "\n",
    "\n",
    "# call augment dataset on the training set\n",
    "dataset_dict[\"train\"] = dataset_dict[\"train\"].map(augment_dataset)"
   ]
  },
  {
   "cell_type": "code",
   "execution_count": 10,
   "metadata": {
    "id": "Ed-DU67MBRZM"
   },
   "outputs": [],
   "source": [
    "feature_extractor = WhisperFeatureExtractor.from_pretrained(\n",
    "    \"openai/whisper-tiny\"\n",
    ")\n",
    "tokenizer = WhisperTokenizer.from_pretrained(\n",
    "    \"openai/whisper-tiny\", \n",
    "     language=\"Tamil\",\n",
    "     task=\"transcribe\",\n",
    "     model_max_length=225\n",
    ")\n",
    "processor = WhisperProcessor.from_pretrained(\n",
    "    \"openai/whisper-tiny\",\n",
    "     language=\"Tamil\", \n",
    "     task=\"transcribe\",\n",
    "     model_max_length=225\n",
    ")"
   ]
  },
  {
   "cell_type": "code",
   "execution_count": 11,
   "metadata": {
    "id": "3RRzYMlzBS1c"
   },
   "outputs": [],
   "source": [
    "def fix_sentence(sentence):\n",
    "    transcription = sentence\n",
    "  \n",
    "    if transcription.startswith('\"') and transcription.endswith('\"'):\n",
    "        # we can remove trailing quotation marks as they do not affect the transcription\n",
    "        transcription = transcription[1:-1]\n",
    "  \n",
    "    if transcription[-1] not in [\".\", \"?\", \"!\"]:\n",
    "        # append a full-stop to sentences that do not end in punctuation\n",
    "        transcription = transcription + \".\"\n",
    "    transcription = transcription[:-1].translate(str.maketrans('', '', string.punctuation)) + transcription[-1]\n",
    "    return transcription\n",
    "    \n",
    "def prepare_dataset(examples):\n",
    "    # compute log-Mel input features from input audio array \n",
    "    audio = examples[\"audio\"]\n",
    "    \n",
    "    examples[\"input_features\"] = feature_extractor(\n",
    "        audio[\"array\"], sampling_rate=16000).input_features[0]\n",
    "    \n",
    "    sentences = fix_sentence(examples[\"sentence\"])\n",
    "    \n",
    "    # encode target text to label ids \n",
    "    examples[\"labels\"] = tokenizer(sentences, max_length=225, truncation=True).input_ids\n",
    "    return examples"
   ]
  },
  {
   "cell_type": "code",
   "execution_count": 12,
   "metadata": {
    "id": "d_dZciZ4B3dx"
   },
   "outputs": [],
   "source": [
    "for k in dataset_dict:\n",
    "    dataset_dict[k] = dataset_dict[k].map(\n",
    "        prepare_dataset,).with_format(\"torch\")"
   ]
  },
  {
   "cell_type": "code",
   "execution_count": 13,
   "metadata": {},
   "outputs": [],
   "source": [
    "dataset_dict[\"train\"] = dataset_dict[\"train\"].shuffle(buffer_size=500)"
   ]
  },
  {
   "cell_type": "code",
   "execution_count": 14,
   "metadata": {
    "id": "Oy4IjH8TDBdK"
   },
   "outputs": [],
   "source": [
    "@dataclass\n",
    "class DataCollatorSpeechSeq2SeqWithPadding:\n",
    "    processor: Any\n",
    "\n",
    "    def __call__(self, features: List[Dict[str, Union[List[int], torch.Tensor]]]) -> Dict[str, torch.Tensor]:\n",
    "        # split inputs and labels since they have to be of different lengths and need different padding methods\n",
    "        # first treat the audio inputs by simply returning torch tensors\n",
    "        input_features = [{\"input_features\": feature[\"input_features\"]} for feature in features]\n",
    "        batch = self.processor.feature_extractor.pad(input_features, return_tensors=\"pt\")\n",
    "\n",
    "        # get the tokenized label sequences\n",
    "        label_features = [{\"input_ids\": self.processor.tokenizer.truncate_sequences(feature[\"labels\"])[0]}\n",
    "                          for feature in features]\n",
    "        # pad the labels to max length\n",
    "        \n",
    "        labels_batch = self.processor.tokenizer.pad(label_features, return_tensors=\"pt\",)\n",
    "\n",
    "        # replace padding with -100 to ignore loss correctly\n",
    "        labels = labels_batch[\"input_ids\"].masked_fill(labels_batch.attention_mask.ne(1), -100)\n",
    "\n",
    "        # if bos token is appended in previous tokenization step,\n",
    "        # cut bos token here as it's append later anyways\n",
    "        if (labels[:, 0] == self.processor.tokenizer.bos_token_id).all().cpu().item():\n",
    "            labels = labels[:, 1:]\n",
    "\n",
    "        batch[\"labels\"] = labels\n",
    "\n",
    "        return batch"
   ]
  },
  {
   "cell_type": "code",
   "execution_count": 15,
   "metadata": {
    "id": "OEyoMdF4Epw_"
   },
   "outputs": [],
   "source": [
    "data_collator = DataCollatorSpeechSeq2SeqWithPadding(processor=processor)"
   ]
  },
  {
   "cell_type": "code",
   "execution_count": 16,
   "metadata": {
    "id": "QHQYVCO6E589"
   },
   "outputs": [],
   "source": [
    "metric = evaluate.load(\"wer\")\n",
    "\n",
    "# evaluate with the 'normalised' WER\n",
    "do_normalize_eval = True\n",
    "\n",
    "\n",
    "def compute_metrics(pred):\n",
    "    pred_ids = pred.predictions\n",
    "    label_ids = pred.label_ids\n",
    "\n",
    "    # replace -100 with the pad_token_id\n",
    "    label_ids[label_ids == -100] = processor.tokenizer.pad_token_id\n",
    "\n",
    "    # we do not want to group tokens when computing the metrics\n",
    "    pred_str = processor.tokenizer.batch_decode(pred_ids, skip_special_tokens=True, normalize=do_normalize_eval)\n",
    "    label_str = processor.tokenizer.batch_decode(label_ids, skip_special_tokens=True, normalize=do_normalize_eval)\n",
    "\n",
    "    wer = 100 * metric.compute(predictions=pred_str, references=label_str)\n",
    "\n",
    "    return {\"wer\": wer}"
   ]
  },
  {
   "cell_type": "code",
   "execution_count": 17,
   "metadata": {
    "id": "Fzh1uv_tHh6k",
    "scrolled": true
   },
   "outputs": [],
   "source": [
    "model = WhisperForConditionalGeneration.from_pretrained(\"openai/whisper-tiny\", use_cache=False)\n",
    "model.config.forced_decoder_ids = None\n",
    "model.config.suppress_tokens = []\n",
    "model.config.use_cache = False"
   ]
  },
  {
   "cell_type": "code",
   "execution_count": 18,
   "metadata": {
    "id": "e9jrAocYIRbo"
   },
   "outputs": [],
   "source": [
    "# trainer callback to reinitialise and reshuffle the streamable datasets at the beginning of each epoch\n",
    "class ShuffleCallback(TrainerCallback):\n",
    "    def on_epoch_begin(self, args, state, control, train_dataloader, **kwargs):\n",
    "        if isinstance(train_dataloader.dataset, IterableDatasetShard):\n",
    "            pass  # set_epoch() is handled by the Trainer\n",
    "        elif isinstance(train_dataloader.dataset, IterableDataset):\n",
    "            train_dataloader.dataset.set_epoch(train_dataloader.dataset._epoch + 1)\n",
    "            \n"
   ]
  },
  {
   "cell_type": "code",
   "execution_count": 19,
   "metadata": {},
   "outputs": [],
   "source": [
    "def load_samples_dataset(dataset, num_samples=10):\n",
    "    samples = []\n",
    "    for i, item in enumerate(dataset):\n",
    "        samples.append(item)\n",
    "        if i == (num_samples-1):\n",
    "            break\n",
    "    sample_dataset = Dataset.from_list(samples)\n",
    "    return sample_dataset\n",
    "\n",
    "def compute_spectrograms(example):\n",
    "    waveform =  example[\"audio\"][\"array\"]\n",
    "    specs = feature_extractor(waveform, sampling_rate=16000, padding=\"do_not_pad\").input_features[0]\n",
    "    return {\"spectrogram\": specs}\n",
    "\n",
    "\n",
    "def record_to_html(sample_record):\n",
    "    audio_array = np.array(sample_record[\"audio\"][\"array\"])\n",
    "    audio_sr = sample_record[\"audio\"][\"sampling_rate\"]\n",
    "    audio_duration = sample_record[\"length\"]\n",
    "    audio_spectrogram = np.array(sample_record[\"spectrogram\"])\n",
    "\n",
    "    bounds = (0,0, audio_duration, audio_spectrogram.max())\n",
    "\n",
    "    waveform_int = np.int16(audio_array * 32767)\n",
    "\n",
    "    \n",
    "    \n",
    "    hv_audio = pn.pane.Audio(waveform_int, sample_rate=audio_sr, name='Audio', throttle=500)\n",
    "    \n",
    "    slider = pn.widgets.FloatSlider(end=audio_duration, visible=False, step=0.001)\n",
    "    line_audio = hv.VLine(0).opts(color='black')\n",
    "    line_spec = hv.VLine(0).opts(color='red')\n",
    "    \n",
    "    \n",
    "    slider.jslink(hv_audio, value='time', bidirectional=True)\n",
    "    slider.jslink(line_audio, value='glyph.location')\n",
    "    slider.jslink(line_spec, value='glyph.location')\n",
    "    \n",
    "    time = np.linspace(0, audio_duration, num=len(audio_array))\n",
    "    line_plot_hv = hv.Curve(\n",
    "        (time, audio_array), [\"Time (s)\", \"amplitude\"]).opts(\n",
    "        width=30, height=10, axiswise=True) * line_audio\n",
    "    \n",
    "    hv_spec_gram = hv.Image(\n",
    "        audio_spectrogram, bounds=(bounds), kdims=[\"Time (s)\", \"Frequency (hz)\"]).opts(\n",
    "        width=30, height=10, labelled=[], axiswise=True, color_levels=512)* line_spec\n",
    "    \n",
    "    \n",
    "    combined = pn.Row(hv_audio, hv_spec_gram, line_plot_hv, slider)\n",
    "    audio_html = StringIO()\n",
    "    combined.save(audio_html)\n",
    "    return audio_html\n",
    "\n",
    "\n",
    "def dataset_to_records(dataset):\n",
    "    records = []\n",
    "    for item in dataset:\n",
    "        record = {}\n",
    "        record[\"audio_with_spec\"] = wandb.Html(record_to_html(item))\n",
    "        record[\"sentence\"] = item[\"sentence\"]\n",
    "        record[\"length\"] = item[\"length\"]\n",
    "        records.append(record)\n",
    "    records = pd.DataFrame(records)\n",
    "    return records\n",
    "    \n",
    "def decode_predictions(trainer, predictions):\n",
    "    pred_ids = predictions.predictions\n",
    "    pred_str = trainer.tokenizer.batch_decode(pred_ids, skip_special_tokens=True, )\n",
    "    return pred_str\n",
    "\n",
    "\n",
    "def compute_measures(predictions, labels):\n",
    "    measures = [jiwer.compute_measures(ps, ls) for ps, ls in zip(predictions, labels)]\n",
    "    measures_df = pd.DataFrame(measures)[[\"wer\", \"hits\", \"substitutions\", \"deletions\", \"insertions\"]]\n",
    "    return measures_df\n",
    "\n",
    "class WandbProgressResultsCallback(WandbCallback):\n",
    "    def __init__(self, trainer, sample_dataset): \n",
    "        super().__init__()\n",
    "        self.trainer = trainer\n",
    "        self.sample_dataset = sample_dataset\n",
    "        self.records_df = dataset_to_records(sample_dataset)\n",
    "        \n",
    "    def on_log(self, args, state, control, model=None, logs=None, **kwargs):\n",
    "        super().on_log(args, state, control, model, logs)\n",
    "        predictions = trainer.predict(self.sample_dataset)\n",
    "        predictions = decode_predictions(self.trainer, predictions)\n",
    "        measures_df = compute_measures(predictions, self.records_df[\"sentence\"].tolist())\n",
    "        records_df = pd.concat([self.records_df, measures_df], axis=1)\n",
    "        records_df[\"prediction\"] = predictions\n",
    "        records_df[\"step\"] = state.global_step\n",
    "        records_table = self._wandb.Table(dataframe=records_df)\n",
    "        self._wandb.log({\"sample_predictions\": records_table})\n",
    "        \n",
    "    def on_save(self, args, state, control, model=None, tokenizer=None, **kwargs):\n",
    "        if self._wandb is None:\n",
    "            return\n",
    "        if self._log_model and self._initialized and state.is_world_process_zero:\n",
    "            with tempfile.TemporaryDirectory() as temp_dir:\n",
    "                self.trainer.save_model(temp_dir)\n",
    "                metadata = (\n",
    "                    {\n",
    "                        k: v\n",
    "                        for k, v in dict(self._wandb.summary).items()\n",
    "                        if isinstance(v, numbers.Number) and not k.startswith(\"_\")\n",
    "                    }\n",
    "                    if not args.load_best_model_at_end\n",
    "                    else {\n",
    "                        f\"eval/{args.metric_for_best_model}\": state.best_metric,\n",
    "                        \"train/total_floss\": state.total_flos,\n",
    "                    }\n",
    "                )\n",
    "                artifact = self._wandb.Artifact(\n",
    "                    name=f\"model-{self._wandb.run.id}\",\n",
    "                    type=\"model\", metadata=metadata)\n",
    "                for f in Path(temp_dir).glob(\"*\"):\n",
    "                    if f.is_file():\n",
    "                        with artifact.new_file(f.name, mode=\"wb\") as fa:\n",
    "                            fa.write(f.read_bytes())\n",
    "                self._wandb.run.log_artifact(artifact)"
   ]
  },
  {
   "cell_type": "code",
   "execution_count": 20,
   "metadata": {
    "id": "yLQm6aERHsE8"
   },
   "outputs": [],
   "source": [
    "training_args = Seq2SeqTrainingArguments(\n",
    "    output_dir=\"./whisper-tiny-ta\",  # change to a repo name of your choice\n",
    "    per_device_train_batch_size=32,\n",
    "    gradient_accumulation_steps=2,  # increase by 2x for every 2x decrease in batch size\n",
    "    learning_rate=1e-5,\n",
    "    save_total_limit=4,\n",
    "    warmup_steps=1000,\n",
    "    max_steps=10000,\n",
    "    gradient_checkpointing=True,\n",
    "    fp16=True,\n",
    "#     fp16_full_eval=True,\n",
    "    optim=\"adamw_bnb_8bit\",\n",
    "    evaluation_strategy=\"steps\",\n",
    "    per_device_eval_batch_size=16,\n",
    "    predict_with_generate=True,\n",
    "    generation_max_length=225,\n",
    "    save_steps=1000,\n",
    "    eval_steps=1000,\n",
    "    logging_steps=250,\n",
    "    report_to=\"none\",\n",
    "    load_best_model_at_end=True,\n",
    "    metric_for_best_model=\"wer\",\n",
    "    greater_is_better=False,\n",
    "    push_to_hub=True,\n",
    "    remove_unused_columns=False, \n",
    "    ignore_data_skip=True\n",
    ")\n"
   ]
  },
  {
   "cell_type": "code",
   "execution_count": 21,
   "metadata": {},
   "outputs": [
    {
     "data": {
      "application/vnd.jupyter.widget-view+json": {
       "model_id": "602b75d2d13f4e54a369598cd2edfaaf",
       "version_major": 2,
       "version_minor": 0
      },
      "text/plain": [
       "  0%|          | 0/10 [00:00<?, ?ex/s]"
      ]
     },
     "metadata": {},
     "output_type": "display_data"
    }
   ],
   "source": [
    "samples_dataset = load_samples_dataset(dataset_dict[\"test\"]).map(compute_spectrograms)"
   ]
  },
  {
   "cell_type": "code",
   "execution_count": 22,
   "metadata": {
    "colab": {
     "base_uri": "https://localhost:8080/"
    },
    "id": "e0mzO_xHIX1Q",
    "outputId": "97170efa-ef41-4e95-d103-aa08d44d02c1"
   },
   "outputs": [
    {
     "name": "stderr",
     "output_type": "stream",
     "text": [
      "/home/mugan/Documents/harvard/cscie89/final_project/./whisper-tiny-ta is already a clone of https://huggingface.co/parambharat/whisper-tiny-ta. Make sure you pull the latest changes with `repo.git_pull()`.\n",
      "max_steps is given, it will override any value given in num_train_epochs\n",
      "Using cuda_amp half precision backend\n"
     ]
    }
   ],
   "source": [
    "trainer = Seq2SeqTrainer(\n",
    "    args=training_args,\n",
    "    model=model,\n",
    "    train_dataset=dataset_dict[\"train\"],\n",
    "    eval_dataset=dataset_dict[\"test\"],\n",
    "    data_collator=data_collator,\n",
    "    compute_metrics=compute_metrics,\n",
    "    tokenizer=processor,\n",
    "    callbacks=[ShuffleCallback()],\n",
    "    \n",
    ")"
   ]
  },
  {
   "cell_type": "code",
   "execution_count": 23,
   "metadata": {},
   "outputs": [
    {
     "name": "stderr",
     "output_type": "stream",
     "text": [
      "WARNING:param.Curve: Chart elements should only be supplied a single kdim\n",
      "WARNING:param.Curve: Chart elements should only be supplied a single kdim\n",
      "WARNING:param.Curve: Chart elements should only be supplied a single kdim\n",
      "WARNING:param.Curve: Chart elements should only be supplied a single kdim\n",
      "WARNING:param.Curve: Chart elements should only be supplied a single kdim\n",
      "WARNING:param.Curve: Chart elements should only be supplied a single kdim\n",
      "WARNING:param.Curve: Chart elements should only be supplied a single kdim\n",
      "WARNING:param.Curve: Chart elements should only be supplied a single kdim\n",
      "WARNING:param.Curve: Chart elements should only be supplied a single kdim\n",
      "WARNING:param.Curve: Chart elements should only be supplied a single kdim\n"
     ]
    }
   ],
   "source": [
    "\n",
    "progress_callback = WandbProgressResultsCallback(trainer, samples_dataset)"
   ]
  },
  {
   "cell_type": "code",
   "execution_count": 24,
   "metadata": {},
   "outputs": [],
   "source": [
    "trainer.add_callback(progress_callback)"
   ]
  },
  {
   "cell_type": "code",
   "execution_count": 25,
   "metadata": {
    "colab": {
     "base_uri": "https://localhost:8080/"
    },
    "id": "FD6Vq49JPNCw",
    "outputId": "2d949448-e4c7-4ec4-b73e-c4d9afd403b7"
   },
   "outputs": [],
   "source": [
    "# model.save_pretrained(training_args.output_dir)\n",
    "# processor.save_pretrained(training_args.output_dir)"
   ]
  },
  {
   "cell_type": "code",
   "execution_count": 26,
   "metadata": {
    "colab": {
     "base_uri": "https://localhost:8080/",
     "height": 1000
    },
    "id": "nDNRUt4zE4rC",
    "outputId": "bd473b8d-80bb-4537-b350-54ccfb75533e"
   },
   "outputs": [],
   "source": [
    "# from time import time\n",
    "# start_time = time()\n",
    "# for i, item in enumerate(dataset_dict[\"train\"]):\n",
    "#     features = item[\"input_features\"]\n",
    "#     labels = item[\"labels\"]\n",
    "#     print(i, f\"{time()-start_time: 0.3f}s\")\n",
    "#     if i == 10:\n",
    "#         break "
   ]
  },
  {
   "cell_type": "code",
   "execution_count": null,
   "metadata": {
    "id": "-hxbi4vVPpoy",
    "scrolled": true
   },
   "outputs": [
    {
     "name": "stderr",
     "output_type": "stream",
     "text": [
      "Loading model from ./whisper-tiny-ta/checkpoint-5000.\n",
      "***** Running training *****\n",
      "  Num examples = 640000\n",
      "  Num Epochs = 9223372036854775807\n",
      "  Instantaneous batch size per device = 32\n",
      "  Total train batch size (w. parallel, distributed & accumulation) = 64\n",
      "  Gradient Accumulation steps = 2\n",
      "  Total optimization steps = 10000\n",
      "  Number of trainable parameters = 37760640\n",
      "  Continuing training from checkpoint, will skip to saved global_step\n",
      "  Continuing training from epoch 0\n",
      "  Continuing training from global step 5000\n",
      "Automatic Weights & Biases logging enabled, to disable set os.environ[\"WANDB_DISABLED\"] = \"true\"\n"
     ]
    },
    {
     "data": {
      "text/html": [
       "\n",
       "    <div>\n",
       "      \n",
       "      <progress value='8181' max='10000' style='width:300px; height:20px; vertical-align: middle;'></progress>\n",
       "      [ 8181/10000 9:08:47 < 5:14:01, 0.10 it/s, Epoch 0.32/9223372036854775807]\n",
       "    </div>\n",
       "    <table border=\"1\" class=\"dataframe\">\n",
       "  <thead>\n",
       " <tr style=\"text-align: left;\">\n",
       "      <th>Step</th>\n",
       "      <th>Training Loss</th>\n",
       "      <th>Validation Loss</th>\n",
       "      <th>Wer</th>\n",
       "    </tr>\n",
       "  </thead>\n",
       "  <tbody>\n",
       "    <tr>\n",
       "      <td>6000</td>\n",
       "      <td>0.349200</td>\n",
       "      <td>0.328315</td>\n",
       "      <td>31.696575</td>\n",
       "    </tr>\n",
       "    <tr>\n",
       "      <td>7000</td>\n",
       "      <td>0.322900</td>\n",
       "      <td>0.321119</td>\n",
       "      <td>31.133873</td>\n",
       "    </tr>\n",
       "    <tr>\n",
       "      <td>8000</td>\n",
       "      <td>0.319300</td>\n",
       "      <td>0.313771</td>\n",
       "      <td>30.516119</td>\n",
       "    </tr>\n",
       "  </tbody>\n",
       "</table><p>"
      ],
      "text/plain": [
       "<IPython.core.display.HTML object>"
      ]
     },
     "metadata": {},
     "output_type": "display_data"
    },
    {
     "name": "stderr",
     "output_type": "stream",
     "text": [
      "***** Running Prediction *****\n",
      "  Num examples = 10\n",
      "  Batch size = 16\n",
      "***** Running Prediction *****\n",
      "  Num examples = 10\n",
      "  Batch size = 16\n",
      "***** Running Prediction *****\n",
      "  Num examples = 10\n",
      "  Batch size = 16\n",
      "***** Running Prediction *****\n",
      "  Num examples = 10\n",
      "  Batch size = 16\n",
      "***** Running Evaluation *****\n",
      "  Num examples: Unknown\n",
      "  Batch size = 16\n",
      "***** Running Prediction *****\n",
      "  Num examples = 10\n",
      "  Batch size = 16\n",
      "Saving model checkpoint to ./whisper-tiny-ta/checkpoint-6000\n",
      "Configuration saved in ./whisper-tiny-ta/checkpoint-6000/config.json\n",
      "Model weights saved in ./whisper-tiny-ta/checkpoint-6000/pytorch_model.bin\n",
      "Feature extractor saved in ./whisper-tiny-ta/checkpoint-6000/preprocessor_config.json\n",
      "tokenizer config file saved in ./whisper-tiny-ta/checkpoint-6000/tokenizer_config.json\n",
      "Special tokens file saved in ./whisper-tiny-ta/checkpoint-6000/special_tokens_map.json\n",
      "added tokens file saved in ./whisper-tiny-ta/checkpoint-6000/added_tokens.json\n",
      "Feature extractor saved in ./whisper-tiny-ta/preprocessor_config.json\n",
      "tokenizer config file saved in ./whisper-tiny-ta/tokenizer_config.json\n",
      "Special tokens file saved in ./whisper-tiny-ta/special_tokens_map.json\n",
      "added tokens file saved in ./whisper-tiny-ta/added_tokens.json\n",
      "Deleting older checkpoint [whisper-tiny-ta/checkpoint-2000] due to args.save_total_limit\n",
      "Saving model checkpoint to /tmp/tmp01tlobah\n",
      "Configuration saved in /tmp/tmp01tlobah/config.json\n",
      "Model weights saved in /tmp/tmp01tlobah/pytorch_model.bin\n",
      "Feature extractor saved in /tmp/tmp01tlobah/preprocessor_config.json\n",
      "tokenizer config file saved in /tmp/tmp01tlobah/tokenizer_config.json\n",
      "Special tokens file saved in /tmp/tmp01tlobah/special_tokens_map.json\n",
      "added tokens file saved in /tmp/tmp01tlobah/added_tokens.json\n",
      "Saving model checkpoint to ./whisper-tiny-ta\n",
      "Configuration saved in ./whisper-tiny-ta/config.json\n",
      "Model weights saved in ./whisper-tiny-ta/pytorch_model.bin\n",
      "Feature extractor saved in ./whisper-tiny-ta/preprocessor_config.json\n",
      "tokenizer config file saved in ./whisper-tiny-ta/tokenizer_config.json\n",
      "Special tokens file saved in ./whisper-tiny-ta/special_tokens_map.json\n",
      "added tokens file saved in ./whisper-tiny-ta/added_tokens.json\n",
      "Dropping the following result as it does not have all the necessary fields:\n",
      "{'task': {'name': 'Automatic Speech Recognition', 'type': 'automatic-speech-recognition'}, 'dataset': {'name': 'tamil_asr_corpus', 'type': 'tamil_asr_corpus', 'config': 'default', 'split': 'test', 'args': 'default'}}\n",
      "Several commits (2) will be pushed upstream.\n",
      "The progress bars may be unreliable.\n",
      "remote: Scanning LFS files for validity, may be slow...        \n",
      "remote: LFS file scan complete.        \n",
      "To https://huggingface.co/parambharat/whisper-tiny-ta\n",
      "   ade1746..4771df5  main -> main\n",
      "\n",
      "***** Running Prediction *****\n",
      "  Num examples = 10\n",
      "  Batch size = 16\n",
      "***** Running Prediction *****\n",
      "  Num examples = 10\n",
      "  Batch size = 16\n",
      "***** Running Prediction *****\n",
      "  Num examples = 10\n",
      "  Batch size = 16\n",
      "***** Running Prediction *****\n",
      "  Num examples = 10\n",
      "  Batch size = 16\n",
      "***** Running Evaluation *****\n",
      "  Num examples: Unknown\n",
      "  Batch size = 16\n",
      "***** Running Prediction *****\n",
      "  Num examples = 10\n",
      "  Batch size = 16\n",
      "Saving model checkpoint to ./whisper-tiny-ta/checkpoint-7000\n",
      "Configuration saved in ./whisper-tiny-ta/checkpoint-7000/config.json\n",
      "Model weights saved in ./whisper-tiny-ta/checkpoint-7000/pytorch_model.bin\n",
      "Feature extractor saved in ./whisper-tiny-ta/checkpoint-7000/preprocessor_config.json\n",
      "tokenizer config file saved in ./whisper-tiny-ta/checkpoint-7000/tokenizer_config.json\n",
      "Special tokens file saved in ./whisper-tiny-ta/checkpoint-7000/special_tokens_map.json\n",
      "added tokens file saved in ./whisper-tiny-ta/checkpoint-7000/added_tokens.json\n",
      "Feature extractor saved in ./whisper-tiny-ta/preprocessor_config.json\n",
      "tokenizer config file saved in ./whisper-tiny-ta/tokenizer_config.json\n",
      "Special tokens file saved in ./whisper-tiny-ta/special_tokens_map.json\n",
      "added tokens file saved in ./whisper-tiny-ta/added_tokens.json\n",
      "Deleting older checkpoint [whisper-tiny-ta/checkpoint-3000] due to args.save_total_limit\n",
      "Saving model checkpoint to /tmp/tmpgv24qx6n\n",
      "Configuration saved in /tmp/tmpgv24qx6n/config.json\n",
      "Model weights saved in /tmp/tmpgv24qx6n/pytorch_model.bin\n",
      "Feature extractor saved in /tmp/tmpgv24qx6n/preprocessor_config.json\n",
      "tokenizer config file saved in /tmp/tmpgv24qx6n/tokenizer_config.json\n",
      "Special tokens file saved in /tmp/tmpgv24qx6n/special_tokens_map.json\n",
      "added tokens file saved in /tmp/tmpgv24qx6n/added_tokens.json\n",
      "Saving model checkpoint to ./whisper-tiny-ta\n",
      "Configuration saved in ./whisper-tiny-ta/config.json\n",
      "Model weights saved in ./whisper-tiny-ta/pytorch_model.bin\n",
      "Feature extractor saved in ./whisper-tiny-ta/preprocessor_config.json\n",
      "tokenizer config file saved in ./whisper-tiny-ta/tokenizer_config.json\n",
      "Special tokens file saved in ./whisper-tiny-ta/special_tokens_map.json\n",
      "added tokens file saved in ./whisper-tiny-ta/added_tokens.json\n",
      "Dropping the following result as it does not have all the necessary fields:\n",
      "{'task': {'name': 'Automatic Speech Recognition', 'type': 'automatic-speech-recognition'}, 'dataset': {'name': 'tamil_asr_corpus', 'type': 'tamil_asr_corpus', 'config': 'default', 'split': 'test', 'args': 'default'}}\n",
      "Several commits (2) will be pushed upstream.\n",
      "The progress bars may be unreliable.\n",
      "remote: Scanning LFS files for validity, may be slow...        \n",
      "remote: LFS file scan complete.        \n",
      "To https://huggingface.co/parambharat/whisper-tiny-ta\n",
      "   4771df5..242477f  main -> main\n",
      "\n",
      "***** Running Prediction *****\n",
      "  Num examples = 10\n",
      "  Batch size = 16\n",
      "***** Running Prediction *****\n",
      "  Num examples = 10\n",
      "  Batch size = 16\n",
      "***** Running Prediction *****\n",
      "  Num examples = 10\n",
      "  Batch size = 16\n",
      "***** Running Prediction *****\n",
      "  Num examples = 10\n",
      "  Batch size = 16\n",
      "***** Running Evaluation *****\n",
      "  Num examples: Unknown\n",
      "  Batch size = 16\n",
      "***** Running Prediction *****\n",
      "  Num examples = 10\n",
      "  Batch size = 16\n",
      "Saving model checkpoint to ./whisper-tiny-ta/checkpoint-8000\n",
      "Configuration saved in ./whisper-tiny-ta/checkpoint-8000/config.json\n",
      "Model weights saved in ./whisper-tiny-ta/checkpoint-8000/pytorch_model.bin\n",
      "Feature extractor saved in ./whisper-tiny-ta/checkpoint-8000/preprocessor_config.json\n",
      "tokenizer config file saved in ./whisper-tiny-ta/checkpoint-8000/tokenizer_config.json\n",
      "Special tokens file saved in ./whisper-tiny-ta/checkpoint-8000/special_tokens_map.json\n",
      "added tokens file saved in ./whisper-tiny-ta/checkpoint-8000/added_tokens.json\n",
      "Feature extractor saved in ./whisper-tiny-ta/preprocessor_config.json\n",
      "tokenizer config file saved in ./whisper-tiny-ta/tokenizer_config.json\n",
      "Special tokens file saved in ./whisper-tiny-ta/special_tokens_map.json\n",
      "added tokens file saved in ./whisper-tiny-ta/added_tokens.json\n",
      "Deleting older checkpoint [whisper-tiny-ta/checkpoint-4000] due to args.save_total_limit\n",
      "Saving model checkpoint to /tmp/tmp0_3vghi9\n",
      "Configuration saved in /tmp/tmp0_3vghi9/config.json\n",
      "Model weights saved in /tmp/tmp0_3vghi9/pytorch_model.bin\n",
      "Feature extractor saved in /tmp/tmp0_3vghi9/preprocessor_config.json\n",
      "tokenizer config file saved in /tmp/tmp0_3vghi9/tokenizer_config.json\n",
      "Special tokens file saved in /tmp/tmp0_3vghi9/special_tokens_map.json\n",
      "added tokens file saved in /tmp/tmp0_3vghi9/added_tokens.json\n",
      "Saving model checkpoint to ./whisper-tiny-ta\n",
      "Configuration saved in ./whisper-tiny-ta/config.json\n",
      "Model weights saved in ./whisper-tiny-ta/pytorch_model.bin\n",
      "Feature extractor saved in ./whisper-tiny-ta/preprocessor_config.json\n",
      "tokenizer config file saved in ./whisper-tiny-ta/tokenizer_config.json\n",
      "Special tokens file saved in ./whisper-tiny-ta/special_tokens_map.json\n",
      "added tokens file saved in ./whisper-tiny-ta/added_tokens.json\n",
      "Dropping the following result as it does not have all the necessary fields:\n",
      "{'task': {'name': 'Automatic Speech Recognition', 'type': 'automatic-speech-recognition'}, 'dataset': {'name': 'tamil_asr_corpus', 'type': 'tamil_asr_corpus', 'config': 'default', 'split': 'test', 'args': 'default'}}\n",
      "Several commits (2) will be pushed upstream.\n",
      "The progress bars may be unreliable.\n",
      "remote: Scanning LFS files for validity, may be slow...        \n",
      "remote: LFS file scan complete.        \n",
      "To https://huggingface.co/parambharat/whisper-tiny-ta\n",
      "   242477f..42f0bd8  main -> main\n",
      "\n"
     ]
    }
   ],
   "source": [
    "trainer.train(resume_from_checkpoint=True)"
   ]
  },
  {
   "cell_type": "code",
   "execution_count": null,
   "metadata": {
    "id": "sItye0uSabeD"
   },
   "outputs": [],
   "source": [
    "kwargs = {\n",
    "    \"dataset_tags\": \"mozilla-foundation/common_voice_11_0\",\n",
    "    \"dataset\": \"Common Voice 11.0\",  # a 'pretty' name for the training dataset\n",
    "    \"language\": \"ta\",\n",
    "    \"model_name\": \"Whisper Tiny Ta - Bharat Ramanathan\",  # a 'pretty' name for your model\n",
    "    \"finetuned_from\": \"openai/whisper-tiny\",\n",
    "    \"tasks\": \"automatic-speech-recognition\",\n",
    "    \"tags\": \"whisper-event\",\n",
    "#     \"training_logs\": \"https://wandb.ai/parambharat/whisper_finetuning/runs/2k10w4qq\"\n",
    "}\n"
   ]
  },
  {
   "cell_type": "code",
   "execution_count": null,
   "metadata": {},
   "outputs": [],
   "source": [
    "trainer.push_to_hub(**kwargs)"
   ]
  },
  {
   "cell_type": "code",
   "execution_count": null,
   "metadata": {},
   "outputs": [],
   "source": []
  }
 ],
 "metadata": {
  "accelerator": "GPU",
  "colab": {
   "provenance": []
  },
  "gpuClass": "standard",
  "kernelspec": {
   "display_name": "Python 3 (ipykernel)",
   "language": "python",
   "name": "python3"
  },
  "language_info": {
   "codemirror_mode": {
    "name": "ipython",
    "version": 3
   },
   "file_extension": ".py",
   "mimetype": "text/x-python",
   "name": "python",
   "nbconvert_exporter": "python",
   "pygments_lexer": "ipython3",
   "version": "3.9.15"
  }
 },
 "nbformat": 4,
 "nbformat_minor": 1
}
